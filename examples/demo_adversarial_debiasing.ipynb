{
 "cells": [
  {
   "cell_type": "markdown",
   "metadata": {},
   "source": [
    "#### This notebook demonstrates the use of adversarial debiasing algorithm to learn a fair classifier.\n",
    "Adversarial debiasing [1] is an in-processing technique that learns a classifier to maximize prediction accuracy and simultaneously reduce an adversary's ability to determine the protected attribute from the predictions. This approach leads to a fair classifier as the predictions cannot carry any group discrimination information that the adversary can exploit. We will see how to use this algorithm for learning models with and without fairness constraints and apply them on the Adult dataset."
   ]
  },
  {
   "cell_type": "code",
   "execution_count": 1,
   "metadata": {},
   "outputs": [
    {
     "name": "stderr",
     "output_type": "stream",
     "text": [
      "/Users/juliecestaro/julie-home-env/lib/python3.11/site-packages/inFairness/utils/ndcg.py:37: FutureWarning: We've integrated functorch into PyTorch. As the final step of the integration, `functorch.vmap` is deprecated as of PyTorch 2.0 and will be deleted in a future version of PyTorch >= 2.3. Please use `torch.vmap` instead; see the PyTorch 2.0 release notes and/or the `torch.func` migration guide for more details https://pytorch.org/docs/main/func.migrating.html\n",
      "  vect_normalized_discounted_cumulative_gain = vmap(\n",
      "/Users/juliecestaro/julie-home-env/lib/python3.11/site-packages/inFairness/utils/ndcg.py:48: FutureWarning: We've integrated functorch into PyTorch. As the final step of the integration, `functorch.vmap` is deprecated as of PyTorch 2.0 and will be deleted in a future version of PyTorch >= 2.3. Please use `torch.vmap` instead; see the PyTorch 2.0 release notes and/or the `torch.func` migration guide for more details https://pytorch.org/docs/main/func.migrating.html\n",
      "  monte_carlo_vect_ndcg = vmap(vect_normalized_discounted_cumulative_gain, in_dims=(0,))\n"
     ]
    }
   ],
   "source": [
    "%matplotlib inline\n",
    "# Load all necessary packages\n",
    "import sys\n",
    "sys.path.append(\"../\")\n",
    "from aif360.datasets import BinaryLabelDataset\n",
    "from aif360.datasets import AdultDataset, GermanDataset, CompasDataset\n",
    "from aif360.metrics import BinaryLabelDatasetMetric\n",
    "from aif360.metrics import ClassificationMetric\n",
    "from aif360.metrics.utils import compute_boolean_conditioning_vector\n",
    "\n",
    "from aif360.algorithms.preprocessing.optim_preproc_helpers.data_preproc_functions import load_preproc_data_adult, load_preproc_data_compas, load_preproc_data_german\n",
    "\n",
    "from aif360.algorithms.inprocessing.adversarial_debiasing import AdversarialDebiasing\n",
    "\n",
    "from sklearn.linear_model import LogisticRegression\n",
    "from sklearn.preprocessing import StandardScaler, MaxAbsScaler\n",
    "from sklearn.metrics import accuracy_score\n",
    "\n",
    "from IPython.display import Markdown, display\n",
    "import matplotlib.pyplot as plt\n",
    "\n",
    "import tensorflow.compat.v1 as tf\n",
    "tf.disable_eager_execution()"
   ]
  },
  {
   "cell_type": "markdown",
   "metadata": {},
   "source": [
    "#### Load dataset and set options"
   ]
  },
  {
   "cell_type": "code",
   "execution_count": 2,
   "metadata": {},
   "outputs": [],
   "source": [
    "# Get the dataset and split into train and test\n",
    "dataset_orig = load_preproc_data_adult()\n",
    "\n",
    "privileged_groups = [{'sex': 1}]\n",
    "unprivileged_groups = [{'sex': 0}]\n",
    "\n",
    "dataset_orig_train, dataset_orig_test = dataset_orig.split([0.7], shuffle=True)"
   ]
  },
  {
   "cell_type": "code",
   "execution_count": 3,
   "metadata": {},
   "outputs": [
    {
     "data": {
      "text/markdown": [
       "#### Training Dataset shape"
      ],
      "text/plain": [
       "<IPython.core.display.Markdown object>"
      ]
     },
     "metadata": {},
     "output_type": "display_data"
    },
    {
     "name": "stdout",
     "output_type": "stream",
     "text": [
      "(34189, 18)\n"
     ]
    },
    {
     "data": {
      "text/markdown": [
       "#### Favorable and unfavorable labels"
      ],
      "text/plain": [
       "<IPython.core.display.Markdown object>"
      ]
     },
     "metadata": {},
     "output_type": "display_data"
    },
    {
     "name": "stdout",
     "output_type": "stream",
     "text": [
      "1.0 0.0\n"
     ]
    },
    {
     "data": {
      "text/markdown": [
       "#### Protected attribute names"
      ],
      "text/plain": [
       "<IPython.core.display.Markdown object>"
      ]
     },
     "metadata": {},
     "output_type": "display_data"
    },
    {
     "name": "stdout",
     "output_type": "stream",
     "text": [
      "['sex', 'race']\n"
     ]
    },
    {
     "data": {
      "text/markdown": [
       "#### Privileged and unprivileged protected attribute values"
      ],
      "text/plain": [
       "<IPython.core.display.Markdown object>"
      ]
     },
     "metadata": {},
     "output_type": "display_data"
    },
    {
     "name": "stdout",
     "output_type": "stream",
     "text": [
      "[array([1.]), array([1.])] [array([0.]), array([0.])]\n"
     ]
    },
    {
     "data": {
      "text/markdown": [
       "#### Dataset feature names"
      ],
      "text/plain": [
       "<IPython.core.display.Markdown object>"
      ]
     },
     "metadata": {},
     "output_type": "display_data"
    },
    {
     "name": "stdout",
     "output_type": "stream",
     "text": [
      "['race', 'sex', 'Age (decade)=10', 'Age (decade)=20', 'Age (decade)=30', 'Age (decade)=40', 'Age (decade)=50', 'Age (decade)=60', 'Age (decade)=>=70', 'Education Years=6', 'Education Years=7', 'Education Years=8', 'Education Years=9', 'Education Years=10', 'Education Years=11', 'Education Years=12', 'Education Years=<6', 'Education Years=>12']\n"
     ]
    }
   ],
   "source": [
    "# print out some labels, names, etc.\n",
    "display(Markdown(\"#### Training Dataset shape\"))\n",
    "print(dataset_orig_train.features.shape)\n",
    "display(Markdown(\"#### Favorable and unfavorable labels\"))\n",
    "print(dataset_orig_train.favorable_label, dataset_orig_train.unfavorable_label)\n",
    "display(Markdown(\"#### Protected attribute names\"))\n",
    "print(dataset_orig_train.protected_attribute_names)\n",
    "display(Markdown(\"#### Privileged and unprivileged protected attribute values\"))\n",
    "print(dataset_orig_train.privileged_protected_attributes, \n",
    "      dataset_orig_train.unprivileged_protected_attributes)\n",
    "display(Markdown(\"#### Dataset feature names\"))\n",
    "print(dataset_orig_train.feature_names)"
   ]
  },
  {
   "cell_type": "markdown",
   "metadata": {},
   "source": [
    "#### Metric for original training data"
   ]
  },
  {
   "cell_type": "code",
   "execution_count": 4,
   "metadata": {},
   "outputs": [
    {
     "data": {
      "text/markdown": [
       "#### Original training dataset"
      ],
      "text/plain": [
       "<IPython.core.display.Markdown object>"
      ]
     },
     "metadata": {},
     "output_type": "display_data"
    },
    {
     "name": "stdout",
     "output_type": "stream",
     "text": [
      "Train set: Difference in mean outcomes between unprivileged and privileged groups = -0.196121\n",
      "Test set: Difference in mean outcomes between unprivileged and privileged groups = -0.190768\n"
     ]
    }
   ],
   "source": [
    "# Metric for the original dataset\n",
    "metric_orig_train = BinaryLabelDatasetMetric(dataset_orig_train, \n",
    "                                             unprivileged_groups=unprivileged_groups,\n",
    "                                             privileged_groups=privileged_groups)\n",
    "display(Markdown(\"#### Original training dataset\"))\n",
    "print(\"Train set: Difference in mean outcomes between unprivileged and privileged groups = %f\" % metric_orig_train.mean_difference())\n",
    "metric_orig_test = BinaryLabelDatasetMetric(dataset_orig_test, \n",
    "                                             unprivileged_groups=unprivileged_groups,\n",
    "                                             privileged_groups=privileged_groups)\n",
    "print(\"Test set: Difference in mean outcomes between unprivileged and privileged groups = %f\" % metric_orig_test.mean_difference())"
   ]
  },
  {
   "cell_type": "code",
   "execution_count": 5,
   "metadata": {},
   "outputs": [
    {
     "data": {
      "text/markdown": [
       "#### Scaled dataset - Verify that the scaling does not affect the group label statistics"
      ],
      "text/plain": [
       "<IPython.core.display.Markdown object>"
      ]
     },
     "metadata": {},
     "output_type": "display_data"
    },
    {
     "name": "stdout",
     "output_type": "stream",
     "text": [
      "Train set: Difference in mean outcomes between unprivileged and privileged groups = -0.196121\n",
      "Test set: Difference in mean outcomes between unprivileged and privileged groups = -0.190768\n"
     ]
    }
   ],
   "source": [
    "min_max_scaler = MaxAbsScaler()\n",
    "dataset_orig_train.features = min_max_scaler.fit_transform(dataset_orig_train.features)\n",
    "dataset_orig_test.features = min_max_scaler.transform(dataset_orig_test.features)\n",
    "metric_scaled_train = BinaryLabelDatasetMetric(dataset_orig_train, \n",
    "                             unprivileged_groups=unprivileged_groups,\n",
    "                             privileged_groups=privileged_groups)\n",
    "display(Markdown(\"#### Scaled dataset - Verify that the scaling does not affect the group label statistics\"))\n",
    "print(\"Train set: Difference in mean outcomes between unprivileged and privileged groups = %f\" % metric_scaled_train.mean_difference())\n",
    "metric_scaled_test = BinaryLabelDatasetMetric(dataset_orig_test, \n",
    "                             unprivileged_groups=unprivileged_groups,\n",
    "                             privileged_groups=privileged_groups)\n",
    "print(\"Test set: Difference in mean outcomes between unprivileged and privileged groups = %f\" % metric_scaled_test.mean_difference())\n"
   ]
  },
  {
   "cell_type": "markdown",
   "metadata": {},
   "source": [
    "### Learn plan classifier without debiasing"
   ]
  },
  {
   "cell_type": "code",
   "execution_count": 6,
   "metadata": {},
   "outputs": [],
   "source": [
    "# Load post-processing algorithm that equalizes the odds\n",
    "# Learn parameters with debias set to False\n",
    "sess = tf.Session()\n",
    "plain_model = AdversarialDebiasing(privileged_groups = privileged_groups,\n",
    "                          unprivileged_groups = unprivileged_groups,\n",
    "                          scope_name='plain_classifier',\n",
    "                          debias=False,\n",
    "                          sess=sess)"
   ]
  },
  {
   "cell_type": "code",
   "execution_count": 7,
   "metadata": {
    "scrolled": true
   },
   "outputs": [
    {
     "name": "stdout",
     "output_type": "stream",
     "text": [
      "WARNING:tensorflow:From /Users/juliecestaro/julie-home-env/lib/python3.11/site-packages/tensorflow/python/util/dispatch.py:1260: calling dropout (from tensorflow.python.ops.nn_ops) with keep_prob is deprecated and will be removed in a future version.\n",
      "Instructions for updating:\n",
      "Please use `rate` instead of `keep_prob`. Rate should be set to `rate = 1 - keep_prob`.\n"
     ]
    },
    {
     "name": "stderr",
     "output_type": "stream",
     "text": [
      "WARNING: All log messages before absl::InitializeLog() is called are written to STDERR\n",
      "I0000 00:00:1731896999.815445 10236341 mlir_graph_optimization_pass.cc:401] MLIR V1 optimization pass is not enabled\n"
     ]
    },
    {
     "name": "stdout",
     "output_type": "stream",
     "text": [
      "epoch 0; iter: 0; batch classifier loss: 0.722039\n",
      "epoch 0; iter: 200; batch classifier loss: 0.472996\n",
      "epoch 1; iter: 0; batch classifier loss: 0.364192\n",
      "epoch 1; iter: 200; batch classifier loss: 0.453345\n",
      "epoch 2; iter: 0; batch classifier loss: 0.514584\n",
      "epoch 2; iter: 200; batch classifier loss: 0.518469\n",
      "epoch 3; iter: 0; batch classifier loss: 0.491223\n",
      "epoch 3; iter: 200; batch classifier loss: 0.495574\n",
      "epoch 4; iter: 0; batch classifier loss: 0.311948\n",
      "epoch 4; iter: 200; batch classifier loss: 0.415347\n",
      "epoch 5; iter: 0; batch classifier loss: 0.393771\n",
      "epoch 5; iter: 200; batch classifier loss: 0.419946\n",
      "epoch 6; iter: 0; batch classifier loss: 0.391865\n",
      "epoch 6; iter: 200; batch classifier loss: 0.421153\n",
      "epoch 7; iter: 0; batch classifier loss: 0.385887\n",
      "epoch 7; iter: 200; batch classifier loss: 0.424463\n",
      "epoch 8; iter: 0; batch classifier loss: 0.390761\n",
      "epoch 8; iter: 200; batch classifier loss: 0.371185\n",
      "epoch 9; iter: 0; batch classifier loss: 0.352676\n",
      "epoch 9; iter: 200; batch classifier loss: 0.411913\n",
      "epoch 10; iter: 0; batch classifier loss: 0.463404\n",
      "epoch 10; iter: 200; batch classifier loss: 0.543147\n",
      "epoch 11; iter: 0; batch classifier loss: 0.426749\n",
      "epoch 11; iter: 200; batch classifier loss: 0.416720\n",
      "epoch 12; iter: 0; batch classifier loss: 0.435028\n",
      "epoch 12; iter: 200; batch classifier loss: 0.423271\n",
      "epoch 13; iter: 0; batch classifier loss: 0.387490\n",
      "epoch 13; iter: 200; batch classifier loss: 0.457650\n",
      "epoch 14; iter: 0; batch classifier loss: 0.408150\n",
      "epoch 14; iter: 200; batch classifier loss: 0.444271\n",
      "epoch 15; iter: 0; batch classifier loss: 0.310609\n",
      "epoch 15; iter: 200; batch classifier loss: 0.509952\n",
      "epoch 16; iter: 0; batch classifier loss: 0.441302\n",
      "epoch 16; iter: 200; batch classifier loss: 0.388444\n",
      "epoch 17; iter: 0; batch classifier loss: 0.429179\n",
      "epoch 17; iter: 200; batch classifier loss: 0.382325\n",
      "epoch 18; iter: 0; batch classifier loss: 0.418806\n",
      "epoch 18; iter: 200; batch classifier loss: 0.385825\n",
      "epoch 19; iter: 0; batch classifier loss: 0.464186\n",
      "epoch 19; iter: 200; batch classifier loss: 0.497198\n",
      "epoch 20; iter: 0; batch classifier loss: 0.404858\n",
      "epoch 20; iter: 200; batch classifier loss: 0.439901\n",
      "epoch 21; iter: 0; batch classifier loss: 0.459681\n",
      "epoch 21; iter: 200; batch classifier loss: 0.492390\n",
      "epoch 22; iter: 0; batch classifier loss: 0.412365\n",
      "epoch 22; iter: 200; batch classifier loss: 0.344962\n",
      "epoch 23; iter: 0; batch classifier loss: 0.509261\n",
      "epoch 23; iter: 200; batch classifier loss: 0.498370\n",
      "epoch 24; iter: 0; batch classifier loss: 0.554739\n",
      "epoch 24; iter: 200; batch classifier loss: 0.486695\n",
      "epoch 25; iter: 0; batch classifier loss: 0.435483\n",
      "epoch 25; iter: 200; batch classifier loss: 0.466085\n",
      "epoch 26; iter: 0; batch classifier loss: 0.430193\n",
      "epoch 26; iter: 200; batch classifier loss: 0.461201\n",
      "epoch 27; iter: 0; batch classifier loss: 0.373314\n",
      "epoch 27; iter: 200; batch classifier loss: 0.381317\n",
      "epoch 28; iter: 0; batch classifier loss: 0.377645\n",
      "epoch 28; iter: 200; batch classifier loss: 0.454790\n",
      "epoch 29; iter: 0; batch classifier loss: 0.410461\n",
      "epoch 29; iter: 200; batch classifier loss: 0.430868\n",
      "epoch 30; iter: 0; batch classifier loss: 0.402948\n",
      "epoch 30; iter: 200; batch classifier loss: 0.419154\n",
      "epoch 31; iter: 0; batch classifier loss: 0.386670\n",
      "epoch 31; iter: 200; batch classifier loss: 0.372526\n",
      "epoch 32; iter: 0; batch classifier loss: 0.398224\n",
      "epoch 32; iter: 200; batch classifier loss: 0.367584\n",
      "epoch 33; iter: 0; batch classifier loss: 0.411089\n",
      "epoch 33; iter: 200; batch classifier loss: 0.466149\n",
      "epoch 34; iter: 0; batch classifier loss: 0.444671\n",
      "epoch 34; iter: 200; batch classifier loss: 0.437483\n",
      "epoch 35; iter: 0; batch classifier loss: 0.385876\n",
      "epoch 35; iter: 200; batch classifier loss: 0.376053\n",
      "epoch 36; iter: 0; batch classifier loss: 0.411130\n",
      "epoch 36; iter: 200; batch classifier loss: 0.440548\n",
      "epoch 37; iter: 0; batch classifier loss: 0.292014\n",
      "epoch 37; iter: 200; batch classifier loss: 0.455694\n",
      "epoch 38; iter: 0; batch classifier loss: 0.504122\n",
      "epoch 38; iter: 200; batch classifier loss: 0.339024\n",
      "epoch 39; iter: 0; batch classifier loss: 0.541169\n",
      "epoch 39; iter: 200; batch classifier loss: 0.390977\n",
      "epoch 40; iter: 0; batch classifier loss: 0.391215\n",
      "epoch 40; iter: 200; batch classifier loss: 0.453759\n",
      "epoch 41; iter: 0; batch classifier loss: 0.434826\n",
      "epoch 41; iter: 200; batch classifier loss: 0.538899\n",
      "epoch 42; iter: 0; batch classifier loss: 0.435909\n",
      "epoch 42; iter: 200; batch classifier loss: 0.390517\n",
      "epoch 43; iter: 0; batch classifier loss: 0.479665\n",
      "epoch 43; iter: 200; batch classifier loss: 0.405175\n",
      "epoch 44; iter: 0; batch classifier loss: 0.460097\n",
      "epoch 44; iter: 200; batch classifier loss: 0.370873\n",
      "epoch 45; iter: 0; batch classifier loss: 0.385068\n",
      "epoch 45; iter: 200; batch classifier loss: 0.397449\n",
      "epoch 46; iter: 0; batch classifier loss: 0.431862\n",
      "epoch 46; iter: 200; batch classifier loss: 0.429342\n",
      "epoch 47; iter: 0; batch classifier loss: 0.492713\n",
      "epoch 47; iter: 200; batch classifier loss: 0.399912\n",
      "epoch 48; iter: 0; batch classifier loss: 0.428778\n",
      "epoch 48; iter: 200; batch classifier loss: 0.467321\n",
      "epoch 49; iter: 0; batch classifier loss: 0.328056\n",
      "epoch 49; iter: 200; batch classifier loss: 0.396641\n"
     ]
    },
    {
     "data": {
      "text/plain": [
       "<aif360.algorithms.inprocessing.adversarial_debiasing.AdversarialDebiasing at 0x318080a10>"
      ]
     },
     "execution_count": 7,
     "metadata": {},
     "output_type": "execute_result"
    }
   ],
   "source": [
    "plain_model.fit(dataset_orig_train)"
   ]
  },
  {
   "cell_type": "code",
   "execution_count": 8,
   "metadata": {},
   "outputs": [],
   "source": [
    "# Apply the plain model to test data\n",
    "dataset_nodebiasing_train = plain_model.predict(dataset_orig_train)\n",
    "dataset_nodebiasing_test = plain_model.predict(dataset_orig_test)"
   ]
  },
  {
   "cell_type": "code",
   "execution_count": 9,
   "metadata": {},
   "outputs": [
    {
     "data": {
      "text/markdown": [
       "#### Plain model - without debiasing - dataset metrics"
      ],
      "text/plain": [
       "<IPython.core.display.Markdown object>"
      ]
     },
     "metadata": {},
     "output_type": "display_data"
    },
    {
     "name": "stdout",
     "output_type": "stream",
     "text": [
      "Train set: Difference in mean outcomes between unprivileged and privileged groups = -0.215076\n",
      "Test set: Difference in mean outcomes between unprivileged and privileged groups = -0.208516\n"
     ]
    },
    {
     "data": {
      "text/markdown": [
       "#### Plain model - without debiasing - classification metrics"
      ],
      "text/plain": [
       "<IPython.core.display.Markdown object>"
      ]
     },
     "metadata": {},
     "output_type": "display_data"
    },
    {
     "name": "stdout",
     "output_type": "stream",
     "text": [
      "Test set: Classification accuracy = 0.809049\n",
      "Test set: Balanced classification accuracy = 0.663702\n",
      "Test set: Disparate impact = 0.000000\n",
      "Test set: Equal opportunity difference = -0.459534\n",
      "Test set: Average odds difference = -0.280807\n",
      "Test set: Theil_index = 0.173366\n"
     ]
    }
   ],
   "source": [
    "# Metrics for the dataset from plain model (without debiasing)\n",
    "display(Markdown(\"#### Plain model - without debiasing - dataset metrics\"))\n",
    "metric_dataset_nodebiasing_train = BinaryLabelDatasetMetric(dataset_nodebiasing_train, \n",
    "                                             unprivileged_groups=unprivileged_groups,\n",
    "                                             privileged_groups=privileged_groups)\n",
    "\n",
    "print(\"Train set: Difference in mean outcomes between unprivileged and privileged groups = %f\" % metric_dataset_nodebiasing_train.mean_difference())\n",
    "\n",
    "metric_dataset_nodebiasing_test = BinaryLabelDatasetMetric(dataset_nodebiasing_test, \n",
    "                                             unprivileged_groups=unprivileged_groups,\n",
    "                                             privileged_groups=privileged_groups)\n",
    "\n",
    "print(\"Test set: Difference in mean outcomes between unprivileged and privileged groups = %f\" % metric_dataset_nodebiasing_test.mean_difference())\n",
    "\n",
    "display(Markdown(\"#### Plain model - without debiasing - classification metrics\"))\n",
    "classified_metric_nodebiasing_test = ClassificationMetric(dataset_orig_test, \n",
    "                                                 dataset_nodebiasing_test,\n",
    "                                                 unprivileged_groups=unprivileged_groups,\n",
    "                                                 privileged_groups=privileged_groups)\n",
    "print(\"Test set: Classification accuracy = %f\" % classified_metric_nodebiasing_test.accuracy())\n",
    "TPR = classified_metric_nodebiasing_test.true_positive_rate()\n",
    "TNR = classified_metric_nodebiasing_test.true_negative_rate()\n",
    "bal_acc_nodebiasing_test = 0.5*(TPR+TNR)\n",
    "print(\"Test set: Balanced classification accuracy = %f\" % bal_acc_nodebiasing_test)\n",
    "print(\"Test set: Disparate impact = %f\" % classified_metric_nodebiasing_test.disparate_impact())\n",
    "print(\"Test set: Equal opportunity difference = %f\" % classified_metric_nodebiasing_test.equal_opportunity_difference())\n",
    "print(\"Test set: Average odds difference = %f\" % classified_metric_nodebiasing_test.average_odds_difference())\n",
    "print(\"Test set: Theil_index = %f\" % classified_metric_nodebiasing_test.theil_index())"
   ]
  },
  {
   "cell_type": "markdown",
   "metadata": {},
   "source": [
    "### Apply in-processing algorithm based on adversarial learning"
   ]
  },
  {
   "cell_type": "code",
   "execution_count": 10,
   "metadata": {},
   "outputs": [],
   "source": [
    "sess.close()\n",
    "tf.reset_default_graph()\n",
    "sess = tf.Session()"
   ]
  },
  {
   "cell_type": "code",
   "execution_count": 11,
   "metadata": {},
   "outputs": [],
   "source": [
    "# Learn parameters with debias set to True\n",
    "debiased_model = AdversarialDebiasing(privileged_groups = privileged_groups,\n",
    "                          unprivileged_groups = unprivileged_groups,\n",
    "                          scope_name='debiased_classifier',\n",
    "                          debias=True,\n",
    "                          sess=sess)"
   ]
  },
  {
   "cell_type": "code",
   "execution_count": 12,
   "metadata": {
    "scrolled": true
   },
   "outputs": [
    {
     "name": "stdout",
     "output_type": "stream",
     "text": [
      "epoch 0; iter: 0; batch classifier loss: 0.701544; batch adversarial loss: 0.788041\n",
      "epoch 0; iter: 200; batch classifier loss: 0.814377; batch adversarial loss: 0.760440\n",
      "epoch 1; iter: 0; batch classifier loss: 0.637800; batch adversarial loss: 0.694210\n",
      "epoch 1; iter: 200; batch classifier loss: 0.499025; batch adversarial loss: 0.634675\n",
      "epoch 2; iter: 0; batch classifier loss: 0.542426; batch adversarial loss: 0.644200\n",
      "epoch 2; iter: 200; batch classifier loss: 0.465494; batch adversarial loss: 0.660387\n",
      "epoch 3; iter: 0; batch classifier loss: 0.348816; batch adversarial loss: 0.655939\n",
      "epoch 3; iter: 200; batch classifier loss: 0.519667; batch adversarial loss: 0.621428\n",
      "epoch 4; iter: 0; batch classifier loss: 0.418986; batch adversarial loss: 0.634966\n",
      "epoch 4; iter: 200; batch classifier loss: 0.392480; batch adversarial loss: 0.623358\n",
      "epoch 5; iter: 0; batch classifier loss: 0.401591; batch adversarial loss: 0.632881\n",
      "epoch 5; iter: 200; batch classifier loss: 0.519062; batch adversarial loss: 0.615979\n",
      "epoch 6; iter: 0; batch classifier loss: 0.546104; batch adversarial loss: 0.622889\n",
      "epoch 6; iter: 200; batch classifier loss: 0.418406; batch adversarial loss: 0.604807\n",
      "epoch 7; iter: 0; batch classifier loss: 0.483362; batch adversarial loss: 0.601345\n",
      "epoch 7; iter: 200; batch classifier loss: 0.482442; batch adversarial loss: 0.619007\n",
      "epoch 8; iter: 0; batch classifier loss: 0.531037; batch adversarial loss: 0.570305\n",
      "epoch 8; iter: 200; batch classifier loss: 0.452161; batch adversarial loss: 0.611126\n",
      "epoch 9; iter: 0; batch classifier loss: 0.428622; batch adversarial loss: 0.629615\n",
      "epoch 9; iter: 200; batch classifier loss: 0.423473; batch adversarial loss: 0.673203\n",
      "epoch 10; iter: 0; batch classifier loss: 0.472684; batch adversarial loss: 0.613729\n",
      "epoch 10; iter: 200; batch classifier loss: 0.391176; batch adversarial loss: 0.600241\n",
      "epoch 11; iter: 0; batch classifier loss: 0.323680; batch adversarial loss: 0.631239\n",
      "epoch 11; iter: 200; batch classifier loss: 0.501211; batch adversarial loss: 0.546462\n",
      "epoch 12; iter: 0; batch classifier loss: 0.463894; batch adversarial loss: 0.610360\n",
      "epoch 12; iter: 200; batch classifier loss: 0.369657; batch adversarial loss: 0.635456\n",
      "epoch 13; iter: 0; batch classifier loss: 0.529263; batch adversarial loss: 0.608945\n",
      "epoch 13; iter: 200; batch classifier loss: 0.425306; batch adversarial loss: 0.653858\n",
      "epoch 14; iter: 0; batch classifier loss: 0.410825; batch adversarial loss: 0.636824\n",
      "epoch 14; iter: 200; batch classifier loss: 0.467161; batch adversarial loss: 0.649302\n",
      "epoch 15; iter: 0; batch classifier loss: 0.399988; batch adversarial loss: 0.579314\n",
      "epoch 15; iter: 200; batch classifier loss: 0.416820; batch adversarial loss: 0.608064\n",
      "epoch 16; iter: 0; batch classifier loss: 0.454041; batch adversarial loss: 0.633117\n",
      "epoch 16; iter: 200; batch classifier loss: 0.413654; batch adversarial loss: 0.666774\n",
      "epoch 17; iter: 0; batch classifier loss: 0.462632; batch adversarial loss: 0.555069\n",
      "epoch 17; iter: 200; batch classifier loss: 0.509329; batch adversarial loss: 0.641632\n",
      "epoch 18; iter: 0; batch classifier loss: 0.444768; batch adversarial loss: 0.561635\n",
      "epoch 18; iter: 200; batch classifier loss: 0.437262; batch adversarial loss: 0.566223\n",
      "epoch 19; iter: 0; batch classifier loss: 0.465384; batch adversarial loss: 0.582997\n",
      "epoch 19; iter: 200; batch classifier loss: 0.469879; batch adversarial loss: 0.624411\n",
      "epoch 20; iter: 0; batch classifier loss: 0.443204; batch adversarial loss: 0.565008\n",
      "epoch 20; iter: 200; batch classifier loss: 0.512249; batch adversarial loss: 0.645758\n",
      "epoch 21; iter: 0; batch classifier loss: 0.370181; batch adversarial loss: 0.652305\n",
      "epoch 21; iter: 200; batch classifier loss: 0.407815; batch adversarial loss: 0.554521\n",
      "epoch 22; iter: 0; batch classifier loss: 0.415877; batch adversarial loss: 0.622324\n",
      "epoch 22; iter: 200; batch classifier loss: 0.480404; batch adversarial loss: 0.540493\n",
      "epoch 23; iter: 0; batch classifier loss: 0.491276; batch adversarial loss: 0.525195\n",
      "epoch 23; iter: 200; batch classifier loss: 0.503215; batch adversarial loss: 0.624638\n",
      "epoch 24; iter: 0; batch classifier loss: 0.428426; batch adversarial loss: 0.599801\n",
      "epoch 24; iter: 200; batch classifier loss: 0.439158; batch adversarial loss: 0.541275\n",
      "epoch 25; iter: 0; batch classifier loss: 0.480096; batch adversarial loss: 0.625802\n",
      "epoch 25; iter: 200; batch classifier loss: 0.514428; batch adversarial loss: 0.584920\n",
      "epoch 26; iter: 0; batch classifier loss: 0.479472; batch adversarial loss: 0.648286\n",
      "epoch 26; iter: 200; batch classifier loss: 0.385603; batch adversarial loss: 0.611337\n",
      "epoch 27; iter: 0; batch classifier loss: 0.402653; batch adversarial loss: 0.617126\n",
      "epoch 27; iter: 200; batch classifier loss: 0.393185; batch adversarial loss: 0.626062\n",
      "epoch 28; iter: 0; batch classifier loss: 0.389067; batch adversarial loss: 0.587159\n",
      "epoch 28; iter: 200; batch classifier loss: 0.488352; batch adversarial loss: 0.595359\n",
      "epoch 29; iter: 0; batch classifier loss: 0.434463; batch adversarial loss: 0.589983\n",
      "epoch 29; iter: 200; batch classifier loss: 0.426857; batch adversarial loss: 0.593081\n",
      "epoch 30; iter: 0; batch classifier loss: 0.514979; batch adversarial loss: 0.651174\n",
      "epoch 30; iter: 200; batch classifier loss: 0.424072; batch adversarial loss: 0.633930\n",
      "epoch 31; iter: 0; batch classifier loss: 0.445975; batch adversarial loss: 0.585979\n",
      "epoch 31; iter: 200; batch classifier loss: 0.425659; batch adversarial loss: 0.637827\n",
      "epoch 32; iter: 0; batch classifier loss: 0.471499; batch adversarial loss: 0.587393\n",
      "epoch 32; iter: 200; batch classifier loss: 0.412191; batch adversarial loss: 0.561719\n",
      "epoch 33; iter: 0; batch classifier loss: 0.362460; batch adversarial loss: 0.611954\n",
      "epoch 33; iter: 200; batch classifier loss: 0.420177; batch adversarial loss: 0.658822\n",
      "epoch 34; iter: 0; batch classifier loss: 0.444256; batch adversarial loss: 0.589974\n",
      "epoch 34; iter: 200; batch classifier loss: 0.572484; batch adversarial loss: 0.629685\n",
      "epoch 35; iter: 0; batch classifier loss: 0.423202; batch adversarial loss: 0.653801\n",
      "epoch 35; iter: 200; batch classifier loss: 0.406953; batch adversarial loss: 0.659800\n",
      "epoch 36; iter: 0; batch classifier loss: 0.397015; batch adversarial loss: 0.624053\n",
      "epoch 36; iter: 200; batch classifier loss: 0.443271; batch adversarial loss: 0.563629\n",
      "epoch 37; iter: 0; batch classifier loss: 0.422062; batch adversarial loss: 0.651908\n",
      "epoch 37; iter: 200; batch classifier loss: 0.369983; batch adversarial loss: 0.675665\n",
      "epoch 38; iter: 0; batch classifier loss: 0.466734; batch adversarial loss: 0.617152\n",
      "epoch 38; iter: 200; batch classifier loss: 0.311766; batch adversarial loss: 0.640275\n",
      "epoch 39; iter: 0; batch classifier loss: 0.408152; batch adversarial loss: 0.647666\n",
      "epoch 39; iter: 200; batch classifier loss: 0.405534; batch adversarial loss: 0.621100\n",
      "epoch 40; iter: 0; batch classifier loss: 0.502559; batch adversarial loss: 0.533595\n",
      "epoch 40; iter: 200; batch classifier loss: 0.349982; batch adversarial loss: 0.549978\n",
      "epoch 41; iter: 0; batch classifier loss: 0.587688; batch adversarial loss: 0.567435\n",
      "epoch 41; iter: 200; batch classifier loss: 0.410434; batch adversarial loss: 0.675487\n",
      "epoch 42; iter: 0; batch classifier loss: 0.375667; batch adversarial loss: 0.588056\n",
      "epoch 42; iter: 200; batch classifier loss: 0.400465; batch adversarial loss: 0.624204\n",
      "epoch 43; iter: 0; batch classifier loss: 0.365933; batch adversarial loss: 0.632869\n",
      "epoch 43; iter: 200; batch classifier loss: 0.463767; batch adversarial loss: 0.596647\n",
      "epoch 44; iter: 0; batch classifier loss: 0.375558; batch adversarial loss: 0.690637\n",
      "epoch 44; iter: 200; batch classifier loss: 0.490280; batch adversarial loss: 0.581274\n",
      "epoch 45; iter: 0; batch classifier loss: 0.519307; batch adversarial loss: 0.626926\n",
      "epoch 45; iter: 200; batch classifier loss: 0.444390; batch adversarial loss: 0.623830\n",
      "epoch 46; iter: 0; batch classifier loss: 0.474384; batch adversarial loss: 0.573207\n",
      "epoch 46; iter: 200; batch classifier loss: 0.426423; batch adversarial loss: 0.617490\n",
      "epoch 47; iter: 0; batch classifier loss: 0.357378; batch adversarial loss: 0.636878\n",
      "epoch 47; iter: 200; batch classifier loss: 0.448479; batch adversarial loss: 0.586329\n",
      "epoch 48; iter: 0; batch classifier loss: 0.417769; batch adversarial loss: 0.657138\n",
      "epoch 48; iter: 200; batch classifier loss: 0.453485; batch adversarial loss: 0.594066\n",
      "epoch 49; iter: 0; batch classifier loss: 0.477485; batch adversarial loss: 0.574360\n",
      "epoch 49; iter: 200; batch classifier loss: 0.463603; batch adversarial loss: 0.627780\n"
     ]
    },
    {
     "data": {
      "text/plain": [
       "<aif360.algorithms.inprocessing.adversarial_debiasing.AdversarialDebiasing at 0x3186b8f10>"
      ]
     },
     "execution_count": 12,
     "metadata": {},
     "output_type": "execute_result"
    }
   ],
   "source": [
    "debiased_model.fit(dataset_orig_train)"
   ]
  },
  {
   "cell_type": "code",
   "execution_count": 13,
   "metadata": {},
   "outputs": [],
   "source": [
    "# Apply the plain model to test data\n",
    "dataset_debiasing_train = debiased_model.predict(dataset_orig_train)\n",
    "dataset_debiasing_test = debiased_model.predict(dataset_orig_test)"
   ]
  },
  {
   "cell_type": "code",
   "execution_count": 14,
   "metadata": {},
   "outputs": [
    {
     "data": {
      "text/markdown": [
       "#### Plain model - without debiasing - dataset metrics"
      ],
      "text/plain": [
       "<IPython.core.display.Markdown object>"
      ]
     },
     "metadata": {},
     "output_type": "display_data"
    },
    {
     "name": "stdout",
     "output_type": "stream",
     "text": [
      "Train set: Difference in mean outcomes between unprivileged and privileged groups = -0.215076\n",
      "Test set: Difference in mean outcomes between unprivileged and privileged groups = -0.208516\n"
     ]
    },
    {
     "data": {
      "text/markdown": [
       "#### Model - with debiasing - dataset metrics"
      ],
      "text/plain": [
       "<IPython.core.display.Markdown object>"
      ]
     },
     "metadata": {},
     "output_type": "display_data"
    },
    {
     "name": "stdout",
     "output_type": "stream",
     "text": [
      "Train set: Difference in mean outcomes between unprivileged and privileged groups = -0.087325\n",
      "Test set: Difference in mean outcomes between unprivileged and privileged groups = -0.082757\n"
     ]
    },
    {
     "data": {
      "text/markdown": [
       "#### Plain model - without debiasing - classification metrics"
      ],
      "text/plain": [
       "<IPython.core.display.Markdown object>"
      ]
     },
     "metadata": {},
     "output_type": "display_data"
    },
    {
     "name": "stdout",
     "output_type": "stream",
     "text": [
      "Test set: Classification accuracy = 0.809049\n",
      "Test set: Balanced classification accuracy = 0.663702\n",
      "Test set: Disparate impact = 0.000000\n",
      "Test set: Equal opportunity difference = -0.459534\n",
      "Test set: Average odds difference = -0.280807\n",
      "Test set: Theil_index = 0.173366\n"
     ]
    },
    {
     "data": {
      "text/markdown": [
       "#### Model - with debiasing - classification metrics"
      ],
      "text/plain": [
       "<IPython.core.display.Markdown object>"
      ]
     },
     "metadata": {},
     "output_type": "display_data"
    },
    {
     "name": "stdout",
     "output_type": "stream",
     "text": [
      "Test set: Classification accuracy = 0.798062\n",
      "Test set: Balanced classification accuracy = 0.672979\n",
      "Test set: Disparate impact = 0.586300\n",
      "Test set: Equal opportunity difference = -0.050900\n",
      "Test set: Average odds difference = -0.031458\n",
      "Test set: Theil_index = 0.167370\n"
     ]
    }
   ],
   "source": [
    "# Metrics for the dataset from plain model (without debiasing)\n",
    "display(Markdown(\"#### Plain model - without debiasing - dataset metrics\"))\n",
    "print(\"Train set: Difference in mean outcomes between unprivileged and privileged groups = %f\" % metric_dataset_nodebiasing_train.mean_difference())\n",
    "print(\"Test set: Difference in mean outcomes between unprivileged and privileged groups = %f\" % metric_dataset_nodebiasing_test.mean_difference())\n",
    "\n",
    "# Metrics for the dataset from model with debiasing\n",
    "display(Markdown(\"#### Model - with debiasing - dataset metrics\"))\n",
    "metric_dataset_debiasing_train = BinaryLabelDatasetMetric(dataset_debiasing_train, \n",
    "                                             unprivileged_groups=unprivileged_groups,\n",
    "                                             privileged_groups=privileged_groups)\n",
    "\n",
    "print(\"Train set: Difference in mean outcomes between unprivileged and privileged groups = %f\" % metric_dataset_debiasing_train.mean_difference())\n",
    "\n",
    "metric_dataset_debiasing_test = BinaryLabelDatasetMetric(dataset_debiasing_test, \n",
    "                                             unprivileged_groups=unprivileged_groups,\n",
    "                                             privileged_groups=privileged_groups)\n",
    "\n",
    "print(\"Test set: Difference in mean outcomes between unprivileged and privileged groups = %f\" % metric_dataset_debiasing_test.mean_difference())\n",
    "\n",
    "\n",
    "\n",
    "display(Markdown(\"#### Plain model - without debiasing - classification metrics\"))\n",
    "print(\"Test set: Classification accuracy = %f\" % classified_metric_nodebiasing_test.accuracy())\n",
    "TPR = classified_metric_nodebiasing_test.true_positive_rate()\n",
    "TNR = classified_metric_nodebiasing_test.true_negative_rate()\n",
    "bal_acc_nodebiasing_test = 0.5*(TPR+TNR)\n",
    "print(\"Test set: Balanced classification accuracy = %f\" % bal_acc_nodebiasing_test)\n",
    "print(\"Test set: Disparate impact = %f\" % classified_metric_nodebiasing_test.disparate_impact())\n",
    "print(\"Test set: Equal opportunity difference = %f\" % classified_metric_nodebiasing_test.equal_opportunity_difference())\n",
    "print(\"Test set: Average odds difference = %f\" % classified_metric_nodebiasing_test.average_odds_difference())\n",
    "print(\"Test set: Theil_index = %f\" % classified_metric_nodebiasing_test.theil_index())\n",
    "\n",
    "\n",
    "\n",
    "display(Markdown(\"#### Model - with debiasing - classification metrics\"))\n",
    "classified_metric_debiasing_test = ClassificationMetric(dataset_orig_test, \n",
    "                                                 dataset_debiasing_test,\n",
    "                                                 unprivileged_groups=unprivileged_groups,\n",
    "                                                 privileged_groups=privileged_groups)\n",
    "print(\"Test set: Classification accuracy = %f\" % classified_metric_debiasing_test.accuracy())\n",
    "TPR = classified_metric_debiasing_test.true_positive_rate()\n",
    "TNR = classified_metric_debiasing_test.true_negative_rate()\n",
    "bal_acc_debiasing_test = 0.5*(TPR+TNR)\n",
    "print(\"Test set: Balanced classification accuracy = %f\" % bal_acc_debiasing_test)\n",
    "print(\"Test set: Disparate impact = %f\" % classified_metric_debiasing_test.disparate_impact())\n",
    "print(\"Test set: Equal opportunity difference = %f\" % classified_metric_debiasing_test.equal_opportunity_difference())\n",
    "print(\"Test set: Average odds difference = %f\" % classified_metric_debiasing_test.average_odds_difference())\n",
    "print(\"Test set: Theil_index = %f\" % classified_metric_debiasing_test.theil_index())"
   ]
  },
  {
   "cell_type": "markdown",
   "metadata": {},
   "source": [
    "\n",
    "    References:\n",
    "    [1] B. H. Zhang, B. Lemoine, and M. Mitchell, \"Mitigating UnwantedBiases with Adversarial Learning,\" \n",
    "    AAAI/ACM Conference on Artificial Intelligence, Ethics, and Society, 2018."
   ]
  },
  {
   "cell_type": "code",
   "execution_count": null,
   "metadata": {},
   "outputs": [],
   "source": []
  }
 ],
 "metadata": {
  "kernelspec": {
   "display_name": "Python 3 (ipykernel)",
   "language": "python",
   "name": "python3"
  },
  "language_info": {
   "codemirror_mode": {
    "name": "ipython",
    "version": 3
   },
   "file_extension": ".py",
   "mimetype": "text/x-python",
   "name": "python",
   "nbconvert_exporter": "python",
   "pygments_lexer": "ipython3",
   "version": "3.11.5"
  }
 },
 "nbformat": 4,
 "nbformat_minor": 4
}
