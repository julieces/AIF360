{
 "cells": [
  {
   "cell_type": "markdown",
   "metadata": {},
   "source": [
    "#### This notebook demonstrates the use of adversarial debiasing algorithm to learn a fair classifier.\n",
    "Adversarial debiasing [1] is an in-processing technique that learns a classifier to maximize prediction accuracy and simultaneously reduce an adversary's ability to determine the protected attribute from the predictions. This approach leads to a fair classifier as the predictions cannot carry any group discrimination information that the adversary can exploit. We will see how to use this algorithm for learning models with and without fairness constraints and apply them on the Adult dataset."
   ]
  },
  {
   "cell_type": "code",
   "execution_count": 1,
   "metadata": {},
   "outputs": [
    {
     "name": "stderr",
     "output_type": "stream",
     "text": [
      "/Users/juliecestaro/julie-home-env/lib/python3.11/site-packages/inFairness/utils/ndcg.py:37: FutureWarning: We've integrated functorch into PyTorch. As the final step of the integration, `functorch.vmap` is deprecated as of PyTorch 2.0 and will be deleted in a future version of PyTorch >= 2.3. Please use `torch.vmap` instead; see the PyTorch 2.0 release notes and/or the `torch.func` migration guide for more details https://pytorch.org/docs/main/func.migrating.html\n",
      "  vect_normalized_discounted_cumulative_gain = vmap(\n",
      "/Users/juliecestaro/julie-home-env/lib/python3.11/site-packages/inFairness/utils/ndcg.py:48: FutureWarning: We've integrated functorch into PyTorch. As the final step of the integration, `functorch.vmap` is deprecated as of PyTorch 2.0 and will be deleted in a future version of PyTorch >= 2.3. Please use `torch.vmap` instead; see the PyTorch 2.0 release notes and/or the `torch.func` migration guide for more details https://pytorch.org/docs/main/func.migrating.html\n",
      "  monte_carlo_vect_ndcg = vmap(vect_normalized_discounted_cumulative_gain, in_dims=(0,))\n"
     ]
    }
   ],
   "source": [
    "%matplotlib inline\n",
    "# Load all necessary packages\n",
    "import sys\n",
    "sys.path.append(\"../\")\n",
    "from aif360.datasets import BinaryLabelDataset\n",
    "from aif360.datasets import AdultDataset, GermanDataset, CompasDataset\n",
    "from aif360.metrics import BinaryLabelDatasetMetric\n",
    "from aif360.metrics import ClassificationMetric\n",
    "from aif360.metrics.utils import compute_boolean_conditioning_vector\n",
    "\n",
    "from aif360.algorithms.preprocessing.optim_preproc_helpers.data_preproc_functions import load_preproc_data_adult, load_preproc_data_compas, load_preproc_data_german\n",
    "\n",
    "from aif360.algorithms.inprocessing.adversarial_debiasing import AdversarialDebiasing\n",
    "\n",
    "from sklearn.linear_model import LogisticRegression\n",
    "from sklearn.preprocessing import StandardScaler, MaxAbsScaler\n",
    "from sklearn.metrics import accuracy_score\n",
    "\n",
    "from IPython.display import Markdown, display\n",
    "import matplotlib.pyplot as plt\n",
    "\n",
    "import tensorflow.compat.v1 as tf\n",
    "tf.disable_eager_execution()"
   ]
  },
  {
   "cell_type": "markdown",
   "metadata": {},
   "source": [
    "#### Load dataset and set options"
   ]
  },
  {
   "cell_type": "code",
   "execution_count": 2,
   "metadata": {},
   "outputs": [],
   "source": [
    "# Get the dataset and split into train and test\n",
    "dataset_orig = load_preproc_data_adult()\n",
    "\n",
    "privileged_groups = [{'sex': 1}]\n",
    "unprivileged_groups = [{'sex': 0}]\n",
    "\n",
    "dataset_orig_train, dataset_orig_test = dataset_orig.split([0.7], shuffle=True)"
   ]
  },
  {
   "cell_type": "code",
   "execution_count": 3,
   "metadata": {},
   "outputs": [
    {
     "data": {
      "text/markdown": [
       "#### Training Dataset shape"
      ],
      "text/plain": [
       "<IPython.core.display.Markdown object>"
      ]
     },
     "metadata": {},
     "output_type": "display_data"
    },
    {
     "name": "stdout",
     "output_type": "stream",
     "text": [
      "(34189, 18)\n"
     ]
    },
    {
     "data": {
      "text/markdown": [
       "#### Favorable and unfavorable labels"
      ],
      "text/plain": [
       "<IPython.core.display.Markdown object>"
      ]
     },
     "metadata": {},
     "output_type": "display_data"
    },
    {
     "name": "stdout",
     "output_type": "stream",
     "text": [
      "1.0 0.0\n"
     ]
    },
    {
     "data": {
      "text/markdown": [
       "#### Protected attribute names"
      ],
      "text/plain": [
       "<IPython.core.display.Markdown object>"
      ]
     },
     "metadata": {},
     "output_type": "display_data"
    },
    {
     "name": "stdout",
     "output_type": "stream",
     "text": [
      "['sex', 'race']\n"
     ]
    },
    {
     "data": {
      "text/markdown": [
       "#### Privileged and unprivileged protected attribute values"
      ],
      "text/plain": [
       "<IPython.core.display.Markdown object>"
      ]
     },
     "metadata": {},
     "output_type": "display_data"
    },
    {
     "name": "stdout",
     "output_type": "stream",
     "text": [
      "[array([1.]), array([1.])] [array([0.]), array([0.])]\n"
     ]
    },
    {
     "data": {
      "text/markdown": [
       "#### Dataset feature names"
      ],
      "text/plain": [
       "<IPython.core.display.Markdown object>"
      ]
     },
     "metadata": {},
     "output_type": "display_data"
    },
    {
     "name": "stdout",
     "output_type": "stream",
     "text": [
      "['race', 'sex', 'Age (decade)=10', 'Age (decade)=20', 'Age (decade)=30', 'Age (decade)=40', 'Age (decade)=50', 'Age (decade)=60', 'Age (decade)=>=70', 'Education Years=6', 'Education Years=7', 'Education Years=8', 'Education Years=9', 'Education Years=10', 'Education Years=11', 'Education Years=12', 'Education Years=<6', 'Education Years=>12']\n"
     ]
    }
   ],
   "source": [
    "# print out some labels, names, etc.\n",
    "display(Markdown(\"#### Training Dataset shape\"))\n",
    "print(dataset_orig_train.features.shape)\n",
    "display(Markdown(\"#### Favorable and unfavorable labels\"))\n",
    "print(dataset_orig_train.favorable_label, dataset_orig_train.unfavorable_label)\n",
    "display(Markdown(\"#### Protected attribute names\"))\n",
    "print(dataset_orig_train.protected_attribute_names)\n",
    "display(Markdown(\"#### Privileged and unprivileged protected attribute values\"))\n",
    "print(dataset_orig_train.privileged_protected_attributes, \n",
    "      dataset_orig_train.unprivileged_protected_attributes)\n",
    "display(Markdown(\"#### Dataset feature names\"))\n",
    "print(dataset_orig_train.feature_names)"
   ]
  },
  {
   "cell_type": "markdown",
   "metadata": {},
   "source": [
    "#### Metric for original training data"
   ]
  },
  {
   "cell_type": "code",
   "execution_count": 4,
   "metadata": {},
   "outputs": [
    {
     "data": {
      "text/markdown": [
       "#### Original training dataset"
      ],
      "text/plain": [
       "<IPython.core.display.Markdown object>"
      ]
     },
     "metadata": {},
     "output_type": "display_data"
    },
    {
     "name": "stdout",
     "output_type": "stream",
     "text": [
      "Train set: Difference in mean outcomes between unprivileged and privileged groups = -0.190839\n",
      "Test set: Difference in mean outcomes between unprivileged and privileged groups = -0.203113\n"
     ]
    }
   ],
   "source": [
    "# Metric for the original dataset\n",
    "metric_orig_train = BinaryLabelDatasetMetric(dataset_orig_train, \n",
    "                                             unprivileged_groups=unprivileged_groups,\n",
    "                                             privileged_groups=privileged_groups)\n",
    "display(Markdown(\"#### Original training dataset\"))\n",
    "print(\"Train set: Difference in mean outcomes between unprivileged and privileged groups = %f\" % metric_orig_train.mean_difference())\n",
    "metric_orig_test = BinaryLabelDatasetMetric(dataset_orig_test, \n",
    "                                             unprivileged_groups=unprivileged_groups,\n",
    "                                             privileged_groups=privileged_groups)\n",
    "print(\"Test set: Difference in mean outcomes between unprivileged and privileged groups = %f\" % metric_orig_test.mean_difference())"
   ]
  },
  {
   "cell_type": "code",
   "execution_count": 5,
   "metadata": {},
   "outputs": [
    {
     "data": {
      "text/markdown": [
       "#### Scaled dataset - Verify that the scaling does not affect the group label statistics"
      ],
      "text/plain": [
       "<IPython.core.display.Markdown object>"
      ]
     },
     "metadata": {},
     "output_type": "display_data"
    },
    {
     "name": "stdout",
     "output_type": "stream",
     "text": [
      "Train set: Difference in mean outcomes between unprivileged and privileged groups = -0.190839\n",
      "Test set: Difference in mean outcomes between unprivileged and privileged groups = -0.203113\n"
     ]
    }
   ],
   "source": [
    "min_max_scaler = MaxAbsScaler()\n",
    "dataset_orig_train.features = min_max_scaler.fit_transform(dataset_orig_train.features)\n",
    "dataset_orig_test.features = min_max_scaler.transform(dataset_orig_test.features)\n",
    "metric_scaled_train = BinaryLabelDatasetMetric(dataset_orig_train, \n",
    "                             unprivileged_groups=unprivileged_groups,\n",
    "                             privileged_groups=privileged_groups)\n",
    "display(Markdown(\"#### Scaled dataset - Verify that the scaling does not affect the group label statistics\"))\n",
    "print(\"Train set: Difference in mean outcomes between unprivileged and privileged groups = %f\" % metric_scaled_train.mean_difference())\n",
    "metric_scaled_test = BinaryLabelDatasetMetric(dataset_orig_test, \n",
    "                             unprivileged_groups=unprivileged_groups,\n",
    "                             privileged_groups=privileged_groups)\n",
    "print(\"Test set: Difference in mean outcomes between unprivileged and privileged groups = %f\" % metric_scaled_test.mean_difference())\n"
   ]
  },
  {
   "cell_type": "markdown",
   "metadata": {},
   "source": [
    "### Learn plan classifier without debiasing"
   ]
  },
  {
   "cell_type": "code",
   "execution_count": 6,
   "metadata": {},
   "outputs": [],
   "source": [
    "# Load post-processing algorithm that equalizes the odds\n",
    "# Learn parameters with debias set to False\n",
    "sess = tf.Session()\n",
    "plain_model = AdversarialDebiasing(privileged_groups = privileged_groups,\n",
    "                          unprivileged_groups = unprivileged_groups,\n",
    "                          scope_name='plain_classifier',\n",
    "                          debias=False,\n",
    "                          sess=sess)"
   ]
  },
  {
   "cell_type": "code",
   "execution_count": 7,
   "metadata": {
    "scrolled": true
   },
   "outputs": [
    {
     "name": "stdout",
     "output_type": "stream",
     "text": [
      "WARNING:tensorflow:From /Users/juliecestaro/julie-home-env/lib/python3.11/site-packages/tensorflow/python/util/dispatch.py:1260: calling dropout (from tensorflow.python.ops.nn_ops) with keep_prob is deprecated and will be removed in a future version.\n",
      "Instructions for updating:\n",
      "Please use `rate` instead of `keep_prob`. Rate should be set to `rate = 1 - keep_prob`.\n"
     ]
    },
    {
     "name": "stderr",
     "output_type": "stream",
     "text": [
      "WARNING: All log messages before absl::InitializeLog() is called are written to STDERR\n",
      "I0000 00:00:1732564569.910733 12410457 mlir_graph_optimization_pass.cc:401] MLIR V1 optimization pass is not enabled\n"
     ]
    },
    {
     "name": "stdout",
     "output_type": "stream",
     "text": [
      "epoch 0; iter: 0; batch classifier loss: 0.726891\n",
      "epoch 0; iter: 200; batch classifier loss: 0.473083\n",
      "epoch 1; iter: 0; batch classifier loss: 0.430956\n",
      "epoch 1; iter: 200; batch classifier loss: 0.358314\n",
      "epoch 2; iter: 0; batch classifier loss: 0.489092\n",
      "epoch 2; iter: 200; batch classifier loss: 0.379564\n",
      "epoch 3; iter: 0; batch classifier loss: 0.414240\n",
      "epoch 3; iter: 200; batch classifier loss: 0.389821\n",
      "epoch 4; iter: 0; batch classifier loss: 0.480690\n",
      "epoch 4; iter: 200; batch classifier loss: 0.433070\n",
      "epoch 5; iter: 0; batch classifier loss: 0.455904\n",
      "epoch 5; iter: 200; batch classifier loss: 0.367019\n",
      "epoch 6; iter: 0; batch classifier loss: 0.425034\n",
      "epoch 6; iter: 200; batch classifier loss: 0.396646\n",
      "epoch 7; iter: 0; batch classifier loss: 0.479970\n",
      "epoch 7; iter: 200; batch classifier loss: 0.308651\n",
      "epoch 8; iter: 0; batch classifier loss: 0.385498\n",
      "epoch 8; iter: 200; batch classifier loss: 0.427774\n",
      "epoch 9; iter: 0; batch classifier loss: 0.395768\n",
      "epoch 9; iter: 200; batch classifier loss: 0.396210\n",
      "epoch 10; iter: 0; batch classifier loss: 0.419196\n",
      "epoch 10; iter: 200; batch classifier loss: 0.413988\n",
      "epoch 11; iter: 0; batch classifier loss: 0.411289\n",
      "epoch 11; iter: 200; batch classifier loss: 0.399386\n",
      "epoch 12; iter: 0; batch classifier loss: 0.440330\n",
      "epoch 12; iter: 200; batch classifier loss: 0.478257\n",
      "epoch 13; iter: 0; batch classifier loss: 0.451917\n",
      "epoch 13; iter: 200; batch classifier loss: 0.450230\n",
      "epoch 14; iter: 0; batch classifier loss: 0.469392\n",
      "epoch 14; iter: 200; batch classifier loss: 0.508384\n",
      "epoch 15; iter: 0; batch classifier loss: 0.351405\n",
      "epoch 15; iter: 200; batch classifier loss: 0.371262\n",
      "epoch 16; iter: 0; batch classifier loss: 0.398616\n",
      "epoch 16; iter: 200; batch classifier loss: 0.429806\n",
      "epoch 17; iter: 0; batch classifier loss: 0.417983\n",
      "epoch 17; iter: 200; batch classifier loss: 0.412288\n",
      "epoch 18; iter: 0; batch classifier loss: 0.405665\n",
      "epoch 18; iter: 200; batch classifier loss: 0.429090\n",
      "epoch 19; iter: 0; batch classifier loss: 0.482940\n",
      "epoch 19; iter: 200; batch classifier loss: 0.465052\n",
      "epoch 20; iter: 0; batch classifier loss: 0.421772\n",
      "epoch 20; iter: 200; batch classifier loss: 0.415542\n",
      "epoch 21; iter: 0; batch classifier loss: 0.412604\n",
      "epoch 21; iter: 200; batch classifier loss: 0.489079\n",
      "epoch 22; iter: 0; batch classifier loss: 0.438199\n",
      "epoch 22; iter: 200; batch classifier loss: 0.400281\n",
      "epoch 23; iter: 0; batch classifier loss: 0.439155\n",
      "epoch 23; iter: 200; batch classifier loss: 0.465714\n",
      "epoch 24; iter: 0; batch classifier loss: 0.391488\n",
      "epoch 24; iter: 200; batch classifier loss: 0.441881\n",
      "epoch 25; iter: 0; batch classifier loss: 0.422688\n",
      "epoch 25; iter: 200; batch classifier loss: 0.453320\n",
      "epoch 26; iter: 0; batch classifier loss: 0.381977\n",
      "epoch 26; iter: 200; batch classifier loss: 0.410053\n",
      "epoch 27; iter: 0; batch classifier loss: 0.307459\n",
      "epoch 27; iter: 200; batch classifier loss: 0.358545\n",
      "epoch 28; iter: 0; batch classifier loss: 0.435496\n",
      "epoch 28; iter: 200; batch classifier loss: 0.440582\n",
      "epoch 29; iter: 0; batch classifier loss: 0.378390\n",
      "epoch 29; iter: 200; batch classifier loss: 0.382811\n",
      "epoch 30; iter: 0; batch classifier loss: 0.464290\n",
      "epoch 30; iter: 200; batch classifier loss: 0.506457\n",
      "epoch 31; iter: 0; batch classifier loss: 0.402705\n",
      "epoch 31; iter: 200; batch classifier loss: 0.425636\n",
      "epoch 32; iter: 0; batch classifier loss: 0.489787\n",
      "epoch 32; iter: 200; batch classifier loss: 0.407265\n",
      "epoch 33; iter: 0; batch classifier loss: 0.512145\n",
      "epoch 33; iter: 200; batch classifier loss: 0.377057\n",
      "epoch 34; iter: 0; batch classifier loss: 0.390824\n",
      "epoch 34; iter: 200; batch classifier loss: 0.372356\n",
      "epoch 35; iter: 0; batch classifier loss: 0.397316\n",
      "epoch 35; iter: 200; batch classifier loss: 0.477154\n",
      "epoch 36; iter: 0; batch classifier loss: 0.553328\n",
      "epoch 36; iter: 200; batch classifier loss: 0.465357\n",
      "epoch 37; iter: 0; batch classifier loss: 0.421718\n",
      "epoch 37; iter: 200; batch classifier loss: 0.458093\n",
      "epoch 38; iter: 0; batch classifier loss: 0.422362\n",
      "epoch 38; iter: 200; batch classifier loss: 0.500261\n",
      "epoch 39; iter: 0; batch classifier loss: 0.427243\n",
      "epoch 39; iter: 200; batch classifier loss: 0.397968\n",
      "epoch 40; iter: 0; batch classifier loss: 0.413500\n",
      "epoch 40; iter: 200; batch classifier loss: 0.464044\n",
      "epoch 41; iter: 0; batch classifier loss: 0.419657\n",
      "epoch 41; iter: 200; batch classifier loss: 0.401778\n",
      "epoch 42; iter: 0; batch classifier loss: 0.534986\n",
      "epoch 42; iter: 200; batch classifier loss: 0.458062\n",
      "epoch 43; iter: 0; batch classifier loss: 0.439993\n",
      "epoch 43; iter: 200; batch classifier loss: 0.367815\n",
      "epoch 44; iter: 0; batch classifier loss: 0.475523\n",
      "epoch 44; iter: 200; batch classifier loss: 0.383273\n",
      "epoch 45; iter: 0; batch classifier loss: 0.427848\n",
      "epoch 45; iter: 200; batch classifier loss: 0.349996\n",
      "epoch 46; iter: 0; batch classifier loss: 0.394442\n",
      "epoch 46; iter: 200; batch classifier loss: 0.449756\n",
      "epoch 47; iter: 0; batch classifier loss: 0.389682\n",
      "epoch 47; iter: 200; batch classifier loss: 0.358705\n",
      "epoch 48; iter: 0; batch classifier loss: 0.461367\n",
      "epoch 48; iter: 200; batch classifier loss: 0.374161\n",
      "epoch 49; iter: 0; batch classifier loss: 0.368324\n",
      "epoch 49; iter: 200; batch classifier loss: 0.352122\n"
     ]
    },
    {
     "data": {
      "text/plain": [
       "<aif360.algorithms.inprocessing.adversarial_debiasing.AdversarialDebiasing at 0x1063a5490>"
      ]
     },
     "execution_count": 7,
     "metadata": {},
     "output_type": "execute_result"
    }
   ],
   "source": [
    "plain_model.fit(dataset_orig_train)"
   ]
  },
  {
   "cell_type": "code",
   "execution_count": 8,
   "metadata": {},
   "outputs": [],
   "source": [
    "# Apply the plain model to test data\n",
    "dataset_nodebiasing_train = plain_model.predict(dataset_orig_train)\n",
    "dataset_nodebiasing_test = plain_model.predict(dataset_orig_test)"
   ]
  },
  {
   "cell_type": "code",
   "execution_count": 9,
   "metadata": {},
   "outputs": [
    {
     "data": {
      "text/markdown": [
       "#### Plain model - without debiasing - dataset metrics"
      ],
      "text/plain": [
       "<IPython.core.display.Markdown object>"
      ]
     },
     "metadata": {},
     "output_type": "display_data"
    },
    {
     "name": "stdout",
     "output_type": "stream",
     "text": [
      "Train set: Difference in mean outcomes between unprivileged and privileged groups = -0.216272\n",
      "Test set: Difference in mean outcomes between unprivileged and privileged groups = -0.221747\n"
     ]
    },
    {
     "data": {
      "text/markdown": [
       "#### Plain model - without debiasing - classification metrics"
      ],
      "text/plain": [
       "<IPython.core.display.Markdown object>"
      ]
     },
     "metadata": {},
     "output_type": "display_data"
    },
    {
     "name": "stdout",
     "output_type": "stream",
     "text": [
      "Test set: Classification accuracy = 0.804067\n",
      "Test set: Balanced classification accuracy = 0.666316\n",
      "Test set: Disparate impact = 0.000000\n",
      "Test set: Equal opportunity difference = -0.468325\n",
      "Test set: Average odds difference = -0.290356\n",
      "Test set: Theil_index = 0.175703\n"
     ]
    }
   ],
   "source": [
    "# Metrics for the dataset from plain model (without debiasing)\n",
    "display(Markdown(\"#### Plain model - without debiasing - dataset metrics\"))\n",
    "metric_dataset_nodebiasing_train = BinaryLabelDatasetMetric(dataset_nodebiasing_train, \n",
    "                                             unprivileged_groups=unprivileged_groups,\n",
    "                                             privileged_groups=privileged_groups)\n",
    "\n",
    "print(\"Train set: Difference in mean outcomes between unprivileged and privileged groups = %f\" % metric_dataset_nodebiasing_train.mean_difference())\n",
    "\n",
    "metric_dataset_nodebiasing_test = BinaryLabelDatasetMetric(dataset_nodebiasing_test, \n",
    "                                             unprivileged_groups=unprivileged_groups,\n",
    "                                             privileged_groups=privileged_groups)\n",
    "\n",
    "print(\"Test set: Difference in mean outcomes between unprivileged and privileged groups = %f\" % metric_dataset_nodebiasing_test.mean_difference())\n",
    "\n",
    "display(Markdown(\"#### Plain model - without debiasing - classification metrics\"))\n",
    "classified_metric_nodebiasing_test = ClassificationMetric(dataset_orig_test, \n",
    "                                                 dataset_nodebiasing_test,\n",
    "                                                 unprivileged_groups=unprivileged_groups,\n",
    "                                                 privileged_groups=privileged_groups)\n",
    "print(\"Test set: Classification accuracy = %f\" % classified_metric_nodebiasing_test.accuracy())\n",
    "TPR = classified_metric_nodebiasing_test.true_positive_rate()\n",
    "TNR = classified_metric_nodebiasing_test.true_negative_rate()\n",
    "bal_acc_nodebiasing_test = 0.5*(TPR+TNR)\n",
    "print(\"Test set: Balanced classification accuracy = %f\" % bal_acc_nodebiasing_test)\n",
    "print(\"Test set: Disparate impact = %f\" % classified_metric_nodebiasing_test.disparate_impact())\n",
    "print(\"Test set: Equal opportunity difference = %f\" % classified_metric_nodebiasing_test.equal_opportunity_difference())\n",
    "print(\"Test set: Average odds difference = %f\" % classified_metric_nodebiasing_test.average_odds_difference())\n",
    "print(\"Test set: Theil_index = %f\" % classified_metric_nodebiasing_test.theil_index())"
   ]
  },
  {
   "cell_type": "markdown",
   "metadata": {},
   "source": [
    "### Apply in-processing algorithm based on adversarial learning"
   ]
  },
  {
   "cell_type": "code",
   "execution_count": 10,
   "metadata": {},
   "outputs": [],
   "source": [
    "sess.close()\n",
    "tf.reset_default_graph()\n",
    "sess = tf.Session()"
   ]
  },
  {
   "cell_type": "code",
   "execution_count": 11,
   "metadata": {},
   "outputs": [],
   "source": [
    "# Learn parameters with debias set to True\n",
    "debiased_model = AdversarialDebiasing(privileged_groups = privileged_groups,\n",
    "                          unprivileged_groups = unprivileged_groups,\n",
    "                          scope_name='debiased_classifier',\n",
    "                          debias=True,\n",
    "                          sess=sess)"
   ]
  },
  {
   "cell_type": "code",
   "execution_count": 12,
   "metadata": {
    "scrolled": true
   },
   "outputs": [
    {
     "name": "stdout",
     "output_type": "stream",
     "text": [
      "epoch 0; iter: 0; batch classifier loss: 0.738952; batch adversarial loss: 0.736818\n",
      "epoch 0; iter: 200; batch classifier loss: 0.423519; batch adversarial loss: 0.667718\n",
      "epoch 1; iter: 0; batch classifier loss: 0.432887; batch adversarial loss: 0.677586\n",
      "epoch 1; iter: 200; batch classifier loss: 0.497301; batch adversarial loss: 0.600832\n",
      "epoch 2; iter: 0; batch classifier loss: 0.356378; batch adversarial loss: 0.636364\n",
      "epoch 2; iter: 200; batch classifier loss: 0.461471; batch adversarial loss: 0.655723\n",
      "epoch 3; iter: 0; batch classifier loss: 0.374915; batch adversarial loss: 0.661317\n",
      "epoch 3; iter: 200; batch classifier loss: 0.412690; batch adversarial loss: 0.613400\n",
      "epoch 4; iter: 0; batch classifier loss: 0.364260; batch adversarial loss: 0.648779\n",
      "epoch 4; iter: 200; batch classifier loss: 0.491860; batch adversarial loss: 0.666335\n",
      "epoch 5; iter: 0; batch classifier loss: 0.463964; batch adversarial loss: 0.668676\n",
      "epoch 5; iter: 200; batch classifier loss: 0.437241; batch adversarial loss: 0.578896\n",
      "epoch 6; iter: 0; batch classifier loss: 0.454760; batch adversarial loss: 0.682505\n",
      "epoch 6; iter: 200; batch classifier loss: 0.455444; batch adversarial loss: 0.654444\n",
      "epoch 7; iter: 0; batch classifier loss: 0.476429; batch adversarial loss: 0.621856\n",
      "epoch 7; iter: 200; batch classifier loss: 0.462557; batch adversarial loss: 0.619789\n",
      "epoch 8; iter: 0; batch classifier loss: 0.465754; batch adversarial loss: 0.620141\n",
      "epoch 8; iter: 200; batch classifier loss: 0.486677; batch adversarial loss: 0.627948\n",
      "epoch 9; iter: 0; batch classifier loss: 0.445779; batch adversarial loss: 0.677982\n",
      "epoch 9; iter: 200; batch classifier loss: 0.407935; batch adversarial loss: 0.581850\n",
      "epoch 10; iter: 0; batch classifier loss: 0.522187; batch adversarial loss: 0.581810\n",
      "epoch 10; iter: 200; batch classifier loss: 0.521317; batch adversarial loss: 0.629779\n",
      "epoch 11; iter: 0; batch classifier loss: 0.515875; batch adversarial loss: 0.583460\n",
      "epoch 11; iter: 200; batch classifier loss: 0.508105; batch adversarial loss: 0.634126\n",
      "epoch 12; iter: 0; batch classifier loss: 0.394209; batch adversarial loss: 0.633615\n",
      "epoch 12; iter: 200; batch classifier loss: 0.435894; batch adversarial loss: 0.577801\n",
      "epoch 13; iter: 0; batch classifier loss: 0.554027; batch adversarial loss: 0.641092\n",
      "epoch 13; iter: 200; batch classifier loss: 0.425195; batch adversarial loss: 0.597467\n",
      "epoch 14; iter: 0; batch classifier loss: 0.461281; batch adversarial loss: 0.617883\n",
      "epoch 14; iter: 200; batch classifier loss: 0.552716; batch adversarial loss: 0.614345\n",
      "epoch 15; iter: 0; batch classifier loss: 0.464803; batch adversarial loss: 0.610972\n",
      "epoch 15; iter: 200; batch classifier loss: 0.409454; batch adversarial loss: 0.631549\n",
      "epoch 16; iter: 0; batch classifier loss: 0.489262; batch adversarial loss: 0.633756\n",
      "epoch 16; iter: 200; batch classifier loss: 0.446986; batch adversarial loss: 0.528145\n",
      "epoch 17; iter: 0; batch classifier loss: 0.348804; batch adversarial loss: 0.619595\n",
      "epoch 17; iter: 200; batch classifier loss: 0.409185; batch adversarial loss: 0.583704\n",
      "epoch 18; iter: 0; batch classifier loss: 0.464201; batch adversarial loss: 0.630449\n",
      "epoch 18; iter: 200; batch classifier loss: 0.436496; batch adversarial loss: 0.545874\n",
      "epoch 19; iter: 0; batch classifier loss: 0.381652; batch adversarial loss: 0.656273\n",
      "epoch 19; iter: 200; batch classifier loss: 0.444433; batch adversarial loss: 0.632578\n",
      "epoch 20; iter: 0; batch classifier loss: 0.516417; batch adversarial loss: 0.580024\n",
      "epoch 20; iter: 200; batch classifier loss: 0.410429; batch adversarial loss: 0.582077\n",
      "epoch 21; iter: 0; batch classifier loss: 0.394146; batch adversarial loss: 0.580339\n",
      "epoch 21; iter: 200; batch classifier loss: 0.360305; batch adversarial loss: 0.636964\n",
      "epoch 22; iter: 0; batch classifier loss: 0.410572; batch adversarial loss: 0.669965\n",
      "epoch 22; iter: 200; batch classifier loss: 0.474367; batch adversarial loss: 0.600590\n",
      "epoch 23; iter: 0; batch classifier loss: 0.333104; batch adversarial loss: 0.648537\n",
      "epoch 23; iter: 200; batch classifier loss: 0.505643; batch adversarial loss: 0.577997\n",
      "epoch 24; iter: 0; batch classifier loss: 0.456520; batch adversarial loss: 0.564049\n",
      "epoch 24; iter: 200; batch classifier loss: 0.387841; batch adversarial loss: 0.639806\n",
      "epoch 25; iter: 0; batch classifier loss: 0.456220; batch adversarial loss: 0.590712\n",
      "epoch 25; iter: 200; batch classifier loss: 0.331485; batch adversarial loss: 0.574965\n",
      "epoch 26; iter: 0; batch classifier loss: 0.419117; batch adversarial loss: 0.626740\n",
      "epoch 26; iter: 200; batch classifier loss: 0.431213; batch adversarial loss: 0.639000\n",
      "epoch 27; iter: 0; batch classifier loss: 0.477722; batch adversarial loss: 0.583531\n",
      "epoch 27; iter: 200; batch classifier loss: 0.403201; batch adversarial loss: 0.596046\n",
      "epoch 28; iter: 0; batch classifier loss: 0.426811; batch adversarial loss: 0.612235\n",
      "epoch 28; iter: 200; batch classifier loss: 0.451368; batch adversarial loss: 0.572376\n",
      "epoch 29; iter: 0; batch classifier loss: 0.503411; batch adversarial loss: 0.591357\n",
      "epoch 29; iter: 200; batch classifier loss: 0.486447; batch adversarial loss: 0.586318\n",
      "epoch 30; iter: 0; batch classifier loss: 0.393488; batch adversarial loss: 0.601559\n",
      "epoch 30; iter: 200; batch classifier loss: 0.469835; batch adversarial loss: 0.642711\n",
      "epoch 31; iter: 0; batch classifier loss: 0.365310; batch adversarial loss: 0.581172\n",
      "epoch 31; iter: 200; batch classifier loss: 0.474978; batch adversarial loss: 0.661509\n",
      "epoch 32; iter: 0; batch classifier loss: 0.379826; batch adversarial loss: 0.588266\n",
      "epoch 32; iter: 200; batch classifier loss: 0.320884; batch adversarial loss: 0.622135\n",
      "epoch 33; iter: 0; batch classifier loss: 0.363497; batch adversarial loss: 0.588639\n",
      "epoch 33; iter: 200; batch classifier loss: 0.417663; batch adversarial loss: 0.703130\n",
      "epoch 34; iter: 0; batch classifier loss: 0.472627; batch adversarial loss: 0.592583\n",
      "epoch 34; iter: 200; batch classifier loss: 0.438711; batch adversarial loss: 0.586787\n",
      "epoch 35; iter: 0; batch classifier loss: 0.461080; batch adversarial loss: 0.651815\n",
      "epoch 35; iter: 200; batch classifier loss: 0.476352; batch adversarial loss: 0.559634\n",
      "epoch 36; iter: 0; batch classifier loss: 0.409403; batch adversarial loss: 0.632826\n",
      "epoch 36; iter: 200; batch classifier loss: 0.432649; batch adversarial loss: 0.597300\n",
      "epoch 37; iter: 0; batch classifier loss: 0.401117; batch adversarial loss: 0.619461\n",
      "epoch 37; iter: 200; batch classifier loss: 0.442732; batch adversarial loss: 0.687326\n",
      "epoch 38; iter: 0; batch classifier loss: 0.434884; batch adversarial loss: 0.626753\n",
      "epoch 38; iter: 200; batch classifier loss: 0.381758; batch adversarial loss: 0.573653\n",
      "epoch 39; iter: 0; batch classifier loss: 0.338217; batch adversarial loss: 0.588892\n",
      "epoch 39; iter: 200; batch classifier loss: 0.462027; batch adversarial loss: 0.631285\n",
      "epoch 40; iter: 0; batch classifier loss: 0.382913; batch adversarial loss: 0.621701\n",
      "epoch 40; iter: 200; batch classifier loss: 0.441857; batch adversarial loss: 0.694286\n",
      "epoch 41; iter: 0; batch classifier loss: 0.384274; batch adversarial loss: 0.623295\n",
      "epoch 41; iter: 200; batch classifier loss: 0.414295; batch adversarial loss: 0.570787\n",
      "epoch 42; iter: 0; batch classifier loss: 0.426103; batch adversarial loss: 0.668962\n",
      "epoch 42; iter: 200; batch classifier loss: 0.438006; batch adversarial loss: 0.612701\n",
      "epoch 43; iter: 0; batch classifier loss: 0.386462; batch adversarial loss: 0.578972\n",
      "epoch 43; iter: 200; batch classifier loss: 0.331654; batch adversarial loss: 0.636185\n",
      "epoch 44; iter: 0; batch classifier loss: 0.438689; batch adversarial loss: 0.605514\n",
      "epoch 44; iter: 200; batch classifier loss: 0.506505; batch adversarial loss: 0.574423\n",
      "epoch 45; iter: 0; batch classifier loss: 0.436781; batch adversarial loss: 0.609015\n",
      "epoch 45; iter: 200; batch classifier loss: 0.499345; batch adversarial loss: 0.628840\n",
      "epoch 46; iter: 0; batch classifier loss: 0.450362; batch adversarial loss: 0.583925\n",
      "epoch 46; iter: 200; batch classifier loss: 0.472020; batch adversarial loss: 0.609740\n",
      "epoch 47; iter: 0; batch classifier loss: 0.422600; batch adversarial loss: 0.555266\n",
      "epoch 47; iter: 200; batch classifier loss: 0.451841; batch adversarial loss: 0.596263\n",
      "epoch 48; iter: 0; batch classifier loss: 0.331525; batch adversarial loss: 0.654734\n",
      "epoch 48; iter: 200; batch classifier loss: 0.440432; batch adversarial loss: 0.629470\n",
      "epoch 49; iter: 0; batch classifier loss: 0.376556; batch adversarial loss: 0.613158\n",
      "epoch 49; iter: 200; batch classifier loss: 0.445842; batch adversarial loss: 0.601722\n"
     ]
    },
    {
     "data": {
      "text/plain": [
       "<aif360.algorithms.inprocessing.adversarial_debiasing.AdversarialDebiasing at 0x317580b10>"
      ]
     },
     "execution_count": 12,
     "metadata": {},
     "output_type": "execute_result"
    }
   ],
   "source": [
    "debiased_model.fit(dataset_orig_train)"
   ]
  },
  {
   "cell_type": "code",
   "execution_count": 13,
   "metadata": {},
   "outputs": [],
   "source": [
    "# Apply the plain model to test data\n",
    "dataset_debiasing_train = debiased_model.predict(dataset_orig_train)\n",
    "dataset_debiasing_test = debiased_model.predict(dataset_orig_test)"
   ]
  },
  {
   "cell_type": "code",
   "execution_count": 14,
   "metadata": {},
   "outputs": [
    {
     "data": {
      "text/markdown": [
       "#### Plain model - without debiasing - dataset metrics"
      ],
      "text/plain": [
       "<IPython.core.display.Markdown object>"
      ]
     },
     "metadata": {},
     "output_type": "display_data"
    },
    {
     "name": "stdout",
     "output_type": "stream",
     "text": [
      "Train set: Difference in mean outcomes between unprivileged and privileged groups = -0.216272\n",
      "Test set: Difference in mean outcomes between unprivileged and privileged groups = -0.221747\n"
     ]
    },
    {
     "data": {
      "text/markdown": [
       "#### Model - with debiasing - dataset metrics"
      ],
      "text/plain": [
       "<IPython.core.display.Markdown object>"
      ]
     },
     "metadata": {},
     "output_type": "display_data"
    },
    {
     "name": "stdout",
     "output_type": "stream",
     "text": [
      "Train set: Difference in mean outcomes between unprivileged and privileged groups = -0.085131\n",
      "Test set: Difference in mean outcomes between unprivileged and privileged groups = -0.091350\n"
     ]
    },
    {
     "data": {
      "text/markdown": [
       "#### Plain model - without debiasing - classification metrics"
      ],
      "text/plain": [
       "<IPython.core.display.Markdown object>"
      ]
     },
     "metadata": {},
     "output_type": "display_data"
    },
    {
     "name": "stdout",
     "output_type": "stream",
     "text": [
      "Test set: Classification accuracy = 0.804067\n",
      "Test set: Balanced classification accuracy = 0.666316\n",
      "Test set: Disparate impact = 0.000000\n",
      "Test set: Equal opportunity difference = -0.468325\n",
      "Test set: Average odds difference = -0.290356\n",
      "Test set: Theil_index = 0.175703\n"
     ]
    },
    {
     "data": {
      "text/markdown": [
       "#### Model - with debiasing - classification metrics"
      ],
      "text/plain": [
       "<IPython.core.display.Markdown object>"
      ]
     },
     "metadata": {},
     "output_type": "display_data"
    },
    {
     "name": "stdout",
     "output_type": "stream",
     "text": [
      "Test set: Classification accuracy = 0.792124\n",
      "Test set: Balanced classification accuracy = 0.671187\n",
      "Test set: Disparate impact = 0.561867\n",
      "Test set: Equal opportunity difference = -0.074088\n",
      "Test set: Average odds difference = -0.044353\n",
      "Test set: Theil_index = 0.171727\n"
     ]
    }
   ],
   "source": [
    "# Metrics for the dataset from plain model (without debiasing)\n",
    "display(Markdown(\"#### Plain model - without debiasing - dataset metrics\"))\n",
    "print(\"Train set: Difference in mean outcomes between unprivileged and privileged groups = %f\" % metric_dataset_nodebiasing_train.mean_difference())\n",
    "print(\"Test set: Difference in mean outcomes between unprivileged and privileged groups = %f\" % metric_dataset_nodebiasing_test.mean_difference())\n",
    "\n",
    "# Metrics for the dataset from model with debiasing\n",
    "display(Markdown(\"#### Model - with debiasing - dataset metrics\"))\n",
    "metric_dataset_debiasing_train = BinaryLabelDatasetMetric(dataset_debiasing_train, \n",
    "                                             unprivileged_groups=unprivileged_groups,\n",
    "                                             privileged_groups=privileged_groups)\n",
    "\n",
    "print(\"Train set: Difference in mean outcomes between unprivileged and privileged groups = %f\" % metric_dataset_debiasing_train.mean_difference())\n",
    "\n",
    "metric_dataset_debiasing_test = BinaryLabelDatasetMetric(dataset_debiasing_test, \n",
    "                                             unprivileged_groups=unprivileged_groups,\n",
    "                                             privileged_groups=privileged_groups)\n",
    "\n",
    "print(\"Test set: Difference in mean outcomes between unprivileged and privileged groups = %f\" % metric_dataset_debiasing_test.mean_difference())\n",
    "\n",
    "\n",
    "\n",
    "display(Markdown(\"#### Plain model - without debiasing - classification metrics\"))\n",
    "print(\"Test set: Classification accuracy = %f\" % classified_metric_nodebiasing_test.accuracy())\n",
    "TPR = classified_metric_nodebiasing_test.true_positive_rate()\n",
    "TNR = classified_metric_nodebiasing_test.true_negative_rate()\n",
    "bal_acc_nodebiasing_test = 0.5*(TPR+TNR)\n",
    "print(\"Test set: Balanced classification accuracy = %f\" % bal_acc_nodebiasing_test)\n",
    "print(\"Test set: Disparate impact = %f\" % classified_metric_nodebiasing_test.disparate_impact())\n",
    "print(\"Test set: Equal opportunity difference = %f\" % classified_metric_nodebiasing_test.equal_opportunity_difference())\n",
    "print(\"Test set: Average odds difference = %f\" % classified_metric_nodebiasing_test.average_odds_difference())\n",
    "print(\"Test set: Theil_index = %f\" % classified_metric_nodebiasing_test.theil_index())\n",
    "\n",
    "\n",
    "\n",
    "display(Markdown(\"#### Model - with debiasing - classification metrics\"))\n",
    "classified_metric_debiasing_test = ClassificationMetric(dataset_orig_test, \n",
    "                                                 dataset_debiasing_test,\n",
    "                                                 unprivileged_groups=unprivileged_groups,\n",
    "                                                 privileged_groups=privileged_groups)\n",
    "print(\"Test set: Classification accuracy = %f\" % classified_metric_debiasing_test.accuracy())\n",
    "TPR = classified_metric_debiasing_test.true_positive_rate()\n",
    "TNR = classified_metric_debiasing_test.true_negative_rate()\n",
    "bal_acc_debiasing_test = 0.5*(TPR+TNR)\n",
    "print(\"Test set: Balanced classification accuracy = %f\" % bal_acc_debiasing_test)\n",
    "print(\"Test set: Disparate impact = %f\" % classified_metric_debiasing_test.disparate_impact())\n",
    "print(\"Test set: Equal opportunity difference = %f\" % classified_metric_debiasing_test.equal_opportunity_difference())\n",
    "print(\"Test set: Average odds difference = %f\" % classified_metric_debiasing_test.average_odds_difference())\n",
    "print(\"Test set: Theil_index = %f\" % classified_metric_debiasing_test.theil_index())"
   ]
  },
  {
   "cell_type": "markdown",
   "metadata": {},
   "source": [
    "\n",
    "    References:\n",
    "    [1] B. H. Zhang, B. Lemoine, and M. Mitchell, \"Mitigating UnwantedBiases with Adversarial Learning,\" \n",
    "    AAAI/ACM Conference on Artificial Intelligence, Ethics, and Society, 2018."
   ]
  },
  {
   "cell_type": "code",
   "execution_count": null,
   "metadata": {},
   "outputs": [],
   "source": []
  }
 ],
 "metadata": {
  "kernelspec": {
   "display_name": "Python 3 (ipykernel)",
   "language": "python",
   "name": "python3"
  },
  "language_info": {
   "codemirror_mode": {
    "name": "ipython",
    "version": 3
   },
   "file_extension": ".py",
   "mimetype": "text/x-python",
   "name": "python",
   "nbconvert_exporter": "python",
   "pygments_lexer": "ipython3",
   "version": "3.11.5"
  }
 },
 "nbformat": 4,
 "nbformat_minor": 4
}
