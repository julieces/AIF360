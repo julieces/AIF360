{
 "cells": [
  {
   "cell_type": "markdown",
   "metadata": {},
   "source": [
    "#### This notebook demonstrates the use of adversarial debiasing algorithm to learn a fair classifier.\n",
    "Adversarial debiasing [1] is an in-processing technique that learns a classifier to maximize prediction accuracy and simultaneously reduce an adversary's ability to determine the protected attribute from the predictions. This approach leads to a fair classifier as the predictions cannot carry any group discrimination information that the adversary can exploit. We will see how to use this algorithm for learning models with and without fairness constraints and apply them on the Adult dataset."
   ]
  },
  {
   "cell_type": "code",
   "execution_count": 1,
   "metadata": {},
   "outputs": [
    {
     "name": "stderr",
     "output_type": "stream",
     "text": [
      "/Users/juliecestaro/julie-home-env/lib/python3.11/site-packages/inFairness/utils/ndcg.py:37: FutureWarning: We've integrated functorch into PyTorch. As the final step of the integration, `functorch.vmap` is deprecated as of PyTorch 2.0 and will be deleted in a future version of PyTorch >= 2.3. Please use `torch.vmap` instead; see the PyTorch 2.0 release notes and/or the `torch.func` migration guide for more details https://pytorch.org/docs/main/func.migrating.html\n",
      "  vect_normalized_discounted_cumulative_gain = vmap(\n",
      "/Users/juliecestaro/julie-home-env/lib/python3.11/site-packages/inFairness/utils/ndcg.py:48: FutureWarning: We've integrated functorch into PyTorch. As the final step of the integration, `functorch.vmap` is deprecated as of PyTorch 2.0 and will be deleted in a future version of PyTorch >= 2.3. Please use `torch.vmap` instead; see the PyTorch 2.0 release notes and/or the `torch.func` migration guide for more details https://pytorch.org/docs/main/func.migrating.html\n",
      "  monte_carlo_vect_ndcg = vmap(vect_normalized_discounted_cumulative_gain, in_dims=(0,))\n"
     ]
    }
   ],
   "source": [
    "%matplotlib inline\n",
    "# Load all necessary packages\n",
    "import sys\n",
    "sys.path.append(\"../\")\n",
    "from aif360.datasets import BinaryLabelDataset\n",
    "from aif360.datasets import AdultDataset, GermanDataset, CompasDataset\n",
    "from aif360.metrics import BinaryLabelDatasetMetric\n",
    "from aif360.metrics import ClassificationMetric\n",
    "from aif360.metrics.utils import compute_boolean_conditioning_vector\n",
    "\n",
    "from aif360.algorithms.preprocessing.optim_preproc_helpers.data_preproc_functions import load_preproc_data_adult, load_preproc_data_compas, load_preproc_data_german\n",
    "\n",
    "from aif360.algorithms.inprocessing.adversarial_debiasing import AdversarialDebiasing\n",
    "\n",
    "from sklearn.linear_model import LogisticRegression\n",
    "from sklearn.preprocessing import StandardScaler, MaxAbsScaler\n",
    "from sklearn.metrics import accuracy_score\n",
    "\n",
    "from IPython.display import Markdown, display\n",
    "import matplotlib.pyplot as plt\n",
    "\n",
    "import tensorflow.compat.v1 as tf\n",
    "tf.disable_eager_execution()"
   ]
  },
  {
   "cell_type": "markdown",
   "metadata": {},
   "source": [
    "#### Load dataset and set options"
   ]
  },
  {
   "cell_type": "code",
   "execution_count": 2,
   "metadata": {},
   "outputs": [],
   "source": [
    "# Get the dataset and split into train and test\n",
    "dataset_orig = load_preproc_data_adult()\n",
    "\n",
    "privileged_groups = [{'sex': 1}]\n",
    "unprivileged_groups = [{'sex': 0}]\n",
    "\n",
    "dataset_orig_train, dataset_orig_test = dataset_orig.split([0.7], shuffle=True)"
   ]
  },
  {
   "cell_type": "code",
   "execution_count": 3,
   "metadata": {},
   "outputs": [
    {
     "data": {
      "text/markdown": [
       "#### Training Dataset shape"
      ],
      "text/plain": [
       "<IPython.core.display.Markdown object>"
      ]
     },
     "metadata": {},
     "output_type": "display_data"
    },
    {
     "name": "stdout",
     "output_type": "stream",
     "text": [
      "(34189, 18)\n"
     ]
    },
    {
     "data": {
      "text/markdown": [
       "#### Favorable and unfavorable labels"
      ],
      "text/plain": [
       "<IPython.core.display.Markdown object>"
      ]
     },
     "metadata": {},
     "output_type": "display_data"
    },
    {
     "name": "stdout",
     "output_type": "stream",
     "text": [
      "1.0 0.0\n"
     ]
    },
    {
     "data": {
      "text/markdown": [
       "#### Protected attribute names"
      ],
      "text/plain": [
       "<IPython.core.display.Markdown object>"
      ]
     },
     "metadata": {},
     "output_type": "display_data"
    },
    {
     "name": "stdout",
     "output_type": "stream",
     "text": [
      "['sex', 'race']\n"
     ]
    },
    {
     "data": {
      "text/markdown": [
       "#### Privileged and unprivileged protected attribute values"
      ],
      "text/plain": [
       "<IPython.core.display.Markdown object>"
      ]
     },
     "metadata": {},
     "output_type": "display_data"
    },
    {
     "name": "stdout",
     "output_type": "stream",
     "text": [
      "[array([1.]), array([1.])] [array([0.]), array([0.])]\n"
     ]
    },
    {
     "data": {
      "text/markdown": [
       "#### Dataset feature names"
      ],
      "text/plain": [
       "<IPython.core.display.Markdown object>"
      ]
     },
     "metadata": {},
     "output_type": "display_data"
    },
    {
     "name": "stdout",
     "output_type": "stream",
     "text": [
      "['race', 'sex', 'Age (decade)=10', 'Age (decade)=20', 'Age (decade)=30', 'Age (decade)=40', 'Age (decade)=50', 'Age (decade)=60', 'Age (decade)=>=70', 'Education Years=6', 'Education Years=7', 'Education Years=8', 'Education Years=9', 'Education Years=10', 'Education Years=11', 'Education Years=12', 'Education Years=<6', 'Education Years=>12']\n"
     ]
    }
   ],
   "source": [
    "# print out some labels, names, etc.\n",
    "display(Markdown(\"#### Training Dataset shape\"))\n",
    "print(dataset_orig_train.features.shape)\n",
    "display(Markdown(\"#### Favorable and unfavorable labels\"))\n",
    "print(dataset_orig_train.favorable_label, dataset_orig_train.unfavorable_label)\n",
    "display(Markdown(\"#### Protected attribute names\"))\n",
    "print(dataset_orig_train.protected_attribute_names)\n",
    "display(Markdown(\"#### Privileged and unprivileged protected attribute values\"))\n",
    "print(dataset_orig_train.privileged_protected_attributes, \n",
    "      dataset_orig_train.unprivileged_protected_attributes)\n",
    "display(Markdown(\"#### Dataset feature names\"))\n",
    "print(dataset_orig_train.feature_names)"
   ]
  },
  {
   "cell_type": "markdown",
   "metadata": {},
   "source": [
    "#### Metric for original training data"
   ]
  },
  {
   "cell_type": "code",
   "execution_count": 4,
   "metadata": {},
   "outputs": [
    {
     "data": {
      "text/markdown": [
       "#### Original training dataset"
      ],
      "text/plain": [
       "<IPython.core.display.Markdown object>"
      ]
     },
     "metadata": {},
     "output_type": "display_data"
    },
    {
     "name": "stdout",
     "output_type": "stream",
     "text": [
      "Train set: Difference in mean outcomes between unprivileged and privileged groups = -0.193278\n",
      "Test set: Difference in mean outcomes between unprivileged and privileged groups = -0.197486\n"
     ]
    }
   ],
   "source": [
    "# Metric for the original dataset\n",
    "metric_orig_train = BinaryLabelDatasetMetric(dataset_orig_train, \n",
    "                                             unprivileged_groups=unprivileged_groups,\n",
    "                                             privileged_groups=privileged_groups)\n",
    "display(Markdown(\"#### Original training dataset\"))\n",
    "print(\"Train set: Difference in mean outcomes between unprivileged and privileged groups = %f\" % metric_orig_train.mean_difference())\n",
    "metric_orig_test = BinaryLabelDatasetMetric(dataset_orig_test, \n",
    "                                             unprivileged_groups=unprivileged_groups,\n",
    "                                             privileged_groups=privileged_groups)\n",
    "print(\"Test set: Difference in mean outcomes between unprivileged and privileged groups = %f\" % metric_orig_test.mean_difference())"
   ]
  },
  {
   "cell_type": "code",
   "execution_count": 5,
   "metadata": {},
   "outputs": [
    {
     "data": {
      "text/markdown": [
       "#### Scaled dataset - Verify that the scaling does not affect the group label statistics"
      ],
      "text/plain": [
       "<IPython.core.display.Markdown object>"
      ]
     },
     "metadata": {},
     "output_type": "display_data"
    },
    {
     "name": "stdout",
     "output_type": "stream",
     "text": [
      "Train set: Difference in mean outcomes between unprivileged and privileged groups = -0.193278\n",
      "Test set: Difference in mean outcomes between unprivileged and privileged groups = -0.197486\n"
     ]
    }
   ],
   "source": [
    "min_max_scaler = MaxAbsScaler()\n",
    "dataset_orig_train.features = min_max_scaler.fit_transform(dataset_orig_train.features)\n",
    "dataset_orig_test.features = min_max_scaler.transform(dataset_orig_test.features)\n",
    "metric_scaled_train = BinaryLabelDatasetMetric(dataset_orig_train, \n",
    "                             unprivileged_groups=unprivileged_groups,\n",
    "                             privileged_groups=privileged_groups)\n",
    "display(Markdown(\"#### Scaled dataset - Verify that the scaling does not affect the group label statistics\"))\n",
    "print(\"Train set: Difference in mean outcomes between unprivileged and privileged groups = %f\" % metric_scaled_train.mean_difference())\n",
    "metric_scaled_test = BinaryLabelDatasetMetric(dataset_orig_test, \n",
    "                             unprivileged_groups=unprivileged_groups,\n",
    "                             privileged_groups=privileged_groups)\n",
    "print(\"Test set: Difference in mean outcomes between unprivileged and privileged groups = %f\" % metric_scaled_test.mean_difference())\n"
   ]
  },
  {
   "cell_type": "markdown",
   "metadata": {},
   "source": [
    "### Learn plain classifier without debiasing"
   ]
  },
  {
   "cell_type": "code",
   "execution_count": 6,
   "metadata": {},
   "outputs": [],
   "source": [
    "# Load post-processing algorithm that equalizes the odds\n",
    "# Learn parameters with debias set to False\n",
    "sess = tf.Session()\n",
    "plain_model = AdversarialDebiasing(privileged_groups = privileged_groups,\n",
    "                          unprivileged_groups = unprivileged_groups,\n",
    "                          scope_name='plain_classifier',\n",
    "                          debias=False,\n",
    "                          sess=sess)"
   ]
  },
  {
   "cell_type": "code",
   "execution_count": 7,
   "metadata": {
    "scrolled": true
   },
   "outputs": [
    {
     "name": "stdout",
     "output_type": "stream",
     "text": [
      "WARNING:tensorflow:From /Users/juliecestaro/julie-home-env/lib/python3.11/site-packages/tensorflow/python/util/dispatch.py:1260: calling dropout (from tensorflow.python.ops.nn_ops) with keep_prob is deprecated and will be removed in a future version.\n",
      "Instructions for updating:\n",
      "Please use `rate` instead of `keep_prob`. Rate should be set to `rate = 1 - keep_prob`.\n"
     ]
    },
    {
     "name": "stderr",
     "output_type": "stream",
     "text": [
      "WARNING: All log messages before absl::InitializeLog() is called are written to STDERR\n",
      "I0000 00:00:1732588364.312691 12537089 mlir_graph_optimization_pass.cc:401] MLIR V1 optimization pass is not enabled\n"
     ]
    },
    {
     "name": "stdout",
     "output_type": "stream",
     "text": [
      "epoch 0; iter: 0; batch classifier loss: 0.795452\n",
      "epoch 0; iter: 200; batch classifier loss: 0.476583\n",
      "epoch 1; iter: 0; batch classifier loss: 0.361345\n",
      "epoch 1; iter: 200; batch classifier loss: 0.437515\n",
      "epoch 2; iter: 0; batch classifier loss: 0.425307\n",
      "epoch 2; iter: 200; batch classifier loss: 0.378929\n",
      "epoch 3; iter: 0; batch classifier loss: 0.359348\n",
      "epoch 3; iter: 200; batch classifier loss: 0.444625\n",
      "epoch 4; iter: 0; batch classifier loss: 0.459285\n",
      "epoch 4; iter: 200; batch classifier loss: 0.405935\n",
      "epoch 5; iter: 0; batch classifier loss: 0.386620\n",
      "epoch 5; iter: 200; batch classifier loss: 0.370050\n",
      "epoch 6; iter: 0; batch classifier loss: 0.424795\n",
      "epoch 6; iter: 200; batch classifier loss: 0.388181\n",
      "epoch 7; iter: 0; batch classifier loss: 0.429141\n",
      "epoch 7; iter: 200; batch classifier loss: 0.402493\n",
      "epoch 8; iter: 0; batch classifier loss: 0.389266\n",
      "epoch 8; iter: 200; batch classifier loss: 0.549755\n",
      "epoch 9; iter: 0; batch classifier loss: 0.464268\n",
      "epoch 9; iter: 200; batch classifier loss: 0.362193\n",
      "epoch 10; iter: 0; batch classifier loss: 0.371012\n",
      "epoch 10; iter: 200; batch classifier loss: 0.484696\n",
      "epoch 11; iter: 0; batch classifier loss: 0.425901\n",
      "epoch 11; iter: 200; batch classifier loss: 0.457159\n",
      "epoch 12; iter: 0; batch classifier loss: 0.415403\n",
      "epoch 12; iter: 200; batch classifier loss: 0.430597\n",
      "epoch 13; iter: 0; batch classifier loss: 0.412021\n",
      "epoch 13; iter: 200; batch classifier loss: 0.405762\n",
      "epoch 14; iter: 0; batch classifier loss: 0.459801\n",
      "epoch 14; iter: 200; batch classifier loss: 0.436541\n",
      "epoch 15; iter: 0; batch classifier loss: 0.398861\n",
      "epoch 15; iter: 200; batch classifier loss: 0.399477\n",
      "epoch 16; iter: 0; batch classifier loss: 0.405002\n",
      "epoch 16; iter: 200; batch classifier loss: 0.472697\n",
      "epoch 17; iter: 0; batch classifier loss: 0.328992\n",
      "epoch 17; iter: 200; batch classifier loss: 0.422042\n",
      "epoch 18; iter: 0; batch classifier loss: 0.418623\n",
      "epoch 18; iter: 200; batch classifier loss: 0.372292\n",
      "epoch 19; iter: 0; batch classifier loss: 0.364483\n",
      "epoch 19; iter: 200; batch classifier loss: 0.447549\n",
      "epoch 20; iter: 0; batch classifier loss: 0.432221\n",
      "epoch 20; iter: 200; batch classifier loss: 0.435735\n",
      "epoch 21; iter: 0; batch classifier loss: 0.395755\n",
      "epoch 21; iter: 200; batch classifier loss: 0.406718\n",
      "epoch 22; iter: 0; batch classifier loss: 0.389247\n",
      "epoch 22; iter: 200; batch classifier loss: 0.402867\n",
      "epoch 23; iter: 0; batch classifier loss: 0.450958\n",
      "epoch 23; iter: 200; batch classifier loss: 0.443141\n",
      "epoch 24; iter: 0; batch classifier loss: 0.365566\n",
      "epoch 24; iter: 200; batch classifier loss: 0.425719\n",
      "epoch 25; iter: 0; batch classifier loss: 0.376228\n",
      "epoch 25; iter: 200; batch classifier loss: 0.399758\n",
      "epoch 26; iter: 0; batch classifier loss: 0.474537\n",
      "epoch 26; iter: 200; batch classifier loss: 0.443403\n",
      "epoch 27; iter: 0; batch classifier loss: 0.365297\n",
      "epoch 27; iter: 200; batch classifier loss: 0.417572\n",
      "epoch 28; iter: 0; batch classifier loss: 0.430297\n",
      "epoch 28; iter: 200; batch classifier loss: 0.390410\n",
      "epoch 29; iter: 0; batch classifier loss: 0.379148\n",
      "epoch 29; iter: 200; batch classifier loss: 0.467285\n",
      "epoch 30; iter: 0; batch classifier loss: 0.458082\n",
      "epoch 30; iter: 200; batch classifier loss: 0.418131\n",
      "epoch 31; iter: 0; batch classifier loss: 0.383369\n",
      "epoch 31; iter: 200; batch classifier loss: 0.394158\n",
      "epoch 32; iter: 0; batch classifier loss: 0.402666\n",
      "epoch 32; iter: 200; batch classifier loss: 0.369561\n",
      "epoch 33; iter: 0; batch classifier loss: 0.467856\n",
      "epoch 33; iter: 200; batch classifier loss: 0.406440\n",
      "epoch 34; iter: 0; batch classifier loss: 0.357824\n",
      "epoch 34; iter: 200; batch classifier loss: 0.369914\n",
      "epoch 35; iter: 0; batch classifier loss: 0.373060\n",
      "epoch 35; iter: 200; batch classifier loss: 0.362899\n",
      "epoch 36; iter: 0; batch classifier loss: 0.392367\n",
      "epoch 36; iter: 200; batch classifier loss: 0.432829\n",
      "epoch 37; iter: 0; batch classifier loss: 0.362278\n",
      "epoch 37; iter: 200; batch classifier loss: 0.454026\n",
      "epoch 38; iter: 0; batch classifier loss: 0.473130\n",
      "epoch 38; iter: 200; batch classifier loss: 0.432970\n",
      "epoch 39; iter: 0; batch classifier loss: 0.433920\n",
      "epoch 39; iter: 200; batch classifier loss: 0.396444\n",
      "epoch 40; iter: 0; batch classifier loss: 0.427979\n",
      "epoch 40; iter: 200; batch classifier loss: 0.389974\n",
      "epoch 41; iter: 0; batch classifier loss: 0.388257\n",
      "epoch 41; iter: 200; batch classifier loss: 0.382037\n",
      "epoch 42; iter: 0; batch classifier loss: 0.410147\n",
      "epoch 42; iter: 200; batch classifier loss: 0.436198\n",
      "epoch 43; iter: 0; batch classifier loss: 0.380585\n",
      "epoch 43; iter: 200; batch classifier loss: 0.373202\n",
      "epoch 44; iter: 0; batch classifier loss: 0.428453\n",
      "epoch 44; iter: 200; batch classifier loss: 0.436636\n",
      "epoch 45; iter: 0; batch classifier loss: 0.430505\n",
      "epoch 45; iter: 200; batch classifier loss: 0.335206\n",
      "epoch 46; iter: 0; batch classifier loss: 0.488317\n",
      "epoch 46; iter: 200; batch classifier loss: 0.387314\n",
      "epoch 47; iter: 0; batch classifier loss: 0.397301\n",
      "epoch 47; iter: 200; batch classifier loss: 0.525064\n",
      "epoch 48; iter: 0; batch classifier loss: 0.468715\n",
      "epoch 48; iter: 200; batch classifier loss: 0.399879\n",
      "epoch 49; iter: 0; batch classifier loss: 0.472858\n",
      "epoch 49; iter: 200; batch classifier loss: 0.413318\n"
     ]
    },
    {
     "data": {
      "text/plain": [
       "<aif360.algorithms.inprocessing.adversarial_debiasing.AdversarialDebiasing at 0x317682e10>"
      ]
     },
     "execution_count": 7,
     "metadata": {},
     "output_type": "execute_result"
    }
   ],
   "source": [
    "plain_model.fit(dataset_orig_train)"
   ]
  },
  {
   "cell_type": "code",
   "execution_count": 8,
   "metadata": {},
   "outputs": [],
   "source": [
    "# Apply the plain model to test data\n",
    "dataset_nodebiasing_train = plain_model.predict(dataset_orig_train)\n",
    "dataset_nodebiasing_test = plain_model.predict(dataset_orig_test)"
   ]
  },
  {
   "cell_type": "code",
   "execution_count": 9,
   "metadata": {},
   "outputs": [
    {
     "data": {
      "text/markdown": [
       "#### Plain model - without debiasing - dataset metrics"
      ],
      "text/plain": [
       "<IPython.core.display.Markdown object>"
      ]
     },
     "metadata": {},
     "output_type": "display_data"
    },
    {
     "name": "stdout",
     "output_type": "stream",
     "text": [
      "Train set: Difference in mean outcomes between unprivileged and privileged groups = -0.217802\n",
      "Test set: Difference in mean outcomes between unprivileged and privileged groups = -0.221828\n"
     ]
    },
    {
     "data": {
      "text/markdown": [
       "#### Plain model - without debiasing - classification metrics"
      ],
      "text/plain": [
       "<IPython.core.display.Markdown object>"
      ]
     },
     "metadata": {},
     "output_type": "display_data"
    },
    {
     "name": "stdout",
     "output_type": "stream",
     "text": [
      "Test set: Classification accuracy = 0.805910\n",
      "Test set: Balanced classification accuracy = 0.669047\n",
      "Test set: Disparate impact = 0.000000\n",
      "Test set: Equal opportunity difference = -0.475475\n",
      "Test set: Average odds difference = -0.293406\n",
      "Test set: Theil_index = 0.173400\n"
     ]
    }
   ],
   "source": [
    "# Metrics for the dataset from plain model (without debiasing)\n",
    "display(Markdown(\"#### Plain model - without debiasing - dataset metrics\"))\n",
    "metric_dataset_nodebiasing_train = BinaryLabelDatasetMetric(dataset_nodebiasing_train, \n",
    "                                             unprivileged_groups=unprivileged_groups,\n",
    "                                             privileged_groups=privileged_groups)\n",
    "\n",
    "print(\"Train set: Difference in mean outcomes between unprivileged and privileged groups = %f\" % metric_dataset_nodebiasing_train.mean_difference())\n",
    "\n",
    "metric_dataset_nodebiasing_test = BinaryLabelDatasetMetric(dataset_nodebiasing_test, \n",
    "                                             unprivileged_groups=unprivileged_groups,\n",
    "                                             privileged_groups=privileged_groups)\n",
    "\n",
    "print(\"Test set: Difference in mean outcomes between unprivileged and privileged groups = %f\" % metric_dataset_nodebiasing_test.mean_difference())\n",
    "\n",
    "display(Markdown(\"#### Plain model - without debiasing - classification metrics\"))\n",
    "classified_metric_nodebiasing_test = ClassificationMetric(dataset_orig_test, \n",
    "                                                 dataset_nodebiasing_test,\n",
    "                                                 unprivileged_groups=unprivileged_groups,\n",
    "                                                 privileged_groups=privileged_groups)\n",
    "print(\"Test set: Classification accuracy = %f\" % classified_metric_nodebiasing_test.accuracy())\n",
    "TPR = classified_metric_nodebiasing_test.true_positive_rate()\n",
    "TNR = classified_metric_nodebiasing_test.true_negative_rate()\n",
    "bal_acc_nodebiasing_test = 0.5*(TPR+TNR)\n",
    "print(\"Test set: Balanced classification accuracy = %f\" % bal_acc_nodebiasing_test)\n",
    "print(\"Test set: Disparate impact = %f\" % classified_metric_nodebiasing_test.disparate_impact())\n",
    "print(\"Test set: Equal opportunity difference = %f\" % classified_metric_nodebiasing_test.equal_opportunity_difference())\n",
    "print(\"Test set: Average odds difference = %f\" % classified_metric_nodebiasing_test.average_odds_difference())\n",
    "print(\"Test set: Theil_index = %f\" % classified_metric_nodebiasing_test.theil_index())"
   ]
  },
  {
   "cell_type": "markdown",
   "metadata": {},
   "source": [
    "### Apply in-processing algorithm based on adversarial learning"
   ]
  },
  {
   "cell_type": "code",
   "execution_count": 10,
   "metadata": {},
   "outputs": [],
   "source": [
    "sess.close()\n",
    "tf.reset_default_graph()\n",
    "sess = tf.Session()"
   ]
  },
  {
   "cell_type": "code",
   "execution_count": 11,
   "metadata": {},
   "outputs": [],
   "source": [
    "# Learn parameters with debias set to True\n",
    "debiased_model = AdversarialDebiasing(privileged_groups = privileged_groups,\n",
    "                          unprivileged_groups = unprivileged_groups,\n",
    "                          scope_name='debiased_classifier',\n",
    "                          debias=True,\n",
    "                          sess=sess)"
   ]
  },
  {
   "cell_type": "code",
   "execution_count": 12,
   "metadata": {
    "scrolled": true
   },
   "outputs": [
    {
     "name": "stdout",
     "output_type": "stream",
     "text": [
      "epoch 0; iter: 0; batch classifier loss: 0.699796; batch adversarial loss: 0.799370\n",
      "epoch 0; iter: 200; batch classifier loss: 0.505856; batch adversarial loss: 0.747123\n",
      "epoch 1; iter: 0; batch classifier loss: 0.473268; batch adversarial loss: 0.712585\n",
      "epoch 1; iter: 200; batch classifier loss: 0.453873; batch adversarial loss: 0.640343\n",
      "epoch 2; iter: 0; batch classifier loss: 0.467768; batch adversarial loss: 0.672435\n",
      "epoch 2; iter: 200; batch classifier loss: 0.480463; batch adversarial loss: 0.645918\n",
      "epoch 3; iter: 0; batch classifier loss: 0.380031; batch adversarial loss: 0.616342\n",
      "epoch 3; iter: 200; batch classifier loss: 0.486220; batch adversarial loss: 0.589461\n",
      "epoch 4; iter: 0; batch classifier loss: 0.437017; batch adversarial loss: 0.603151\n",
      "epoch 4; iter: 200; batch classifier loss: 0.473865; batch adversarial loss: 0.636144\n",
      "epoch 5; iter: 0; batch classifier loss: 0.422111; batch adversarial loss: 0.644186\n",
      "epoch 5; iter: 200; batch classifier loss: 0.442089; batch adversarial loss: 0.680136\n",
      "epoch 6; iter: 0; batch classifier loss: 0.378929; batch adversarial loss: 0.587148\n",
      "epoch 6; iter: 200; batch classifier loss: 0.430754; batch adversarial loss: 0.589070\n",
      "epoch 7; iter: 0; batch classifier loss: 0.509339; batch adversarial loss: 0.630232\n",
      "epoch 7; iter: 200; batch classifier loss: 0.425510; batch adversarial loss: 0.715550\n",
      "epoch 8; iter: 0; batch classifier loss: 0.428161; batch adversarial loss: 0.651545\n",
      "epoch 8; iter: 200; batch classifier loss: 0.504533; batch adversarial loss: 0.573667\n",
      "epoch 9; iter: 0; batch classifier loss: 0.475305; batch adversarial loss: 0.687467\n",
      "epoch 9; iter: 200; batch classifier loss: 0.585095; batch adversarial loss: 0.586021\n",
      "epoch 10; iter: 0; batch classifier loss: 0.379124; batch adversarial loss: 0.646304\n",
      "epoch 10; iter: 200; batch classifier loss: 0.425853; batch adversarial loss: 0.662636\n",
      "epoch 11; iter: 0; batch classifier loss: 0.435726; batch adversarial loss: 0.581532\n",
      "epoch 11; iter: 200; batch classifier loss: 0.424394; batch adversarial loss: 0.610131\n",
      "epoch 12; iter: 0; batch classifier loss: 0.385796; batch adversarial loss: 0.677833\n",
      "epoch 12; iter: 200; batch classifier loss: 0.489914; batch adversarial loss: 0.653666\n",
      "epoch 13; iter: 0; batch classifier loss: 0.424993; batch adversarial loss: 0.613159\n",
      "epoch 13; iter: 200; batch classifier loss: 0.459125; batch adversarial loss: 0.619387\n",
      "epoch 14; iter: 0; batch classifier loss: 0.433159; batch adversarial loss: 0.633889\n",
      "epoch 14; iter: 200; batch classifier loss: 0.423104; batch adversarial loss: 0.605275\n",
      "epoch 15; iter: 0; batch classifier loss: 0.427068; batch adversarial loss: 0.597783\n",
      "epoch 15; iter: 200; batch classifier loss: 0.459315; batch adversarial loss: 0.585032\n",
      "epoch 16; iter: 0; batch classifier loss: 0.413231; batch adversarial loss: 0.609911\n",
      "epoch 16; iter: 200; batch classifier loss: 0.409805; batch adversarial loss: 0.610514\n",
      "epoch 17; iter: 0; batch classifier loss: 0.439330; batch adversarial loss: 0.611500\n",
      "epoch 17; iter: 200; batch classifier loss: 0.466916; batch adversarial loss: 0.662983\n",
      "epoch 18; iter: 0; batch classifier loss: 0.450145; batch adversarial loss: 0.585903\n",
      "epoch 18; iter: 200; batch classifier loss: 0.377596; batch adversarial loss: 0.686938\n",
      "epoch 19; iter: 0; batch classifier loss: 0.452075; batch adversarial loss: 0.644052\n",
      "epoch 19; iter: 200; batch classifier loss: 0.487031; batch adversarial loss: 0.643735\n",
      "epoch 20; iter: 0; batch classifier loss: 0.460087; batch adversarial loss: 0.637308\n",
      "epoch 20; iter: 200; batch classifier loss: 0.403268; batch adversarial loss: 0.647800\n",
      "epoch 21; iter: 0; batch classifier loss: 0.401630; batch adversarial loss: 0.615297\n",
      "epoch 21; iter: 200; batch classifier loss: 0.398790; batch adversarial loss: 0.636863\n",
      "epoch 22; iter: 0; batch classifier loss: 0.400206; batch adversarial loss: 0.568218\n",
      "epoch 22; iter: 200; batch classifier loss: 0.413957; batch adversarial loss: 0.579082\n",
      "epoch 23; iter: 0; batch classifier loss: 0.381306; batch adversarial loss: 0.574712\n",
      "epoch 23; iter: 200; batch classifier loss: 0.484615; batch adversarial loss: 0.595590\n",
      "epoch 24; iter: 0; batch classifier loss: 0.480184; batch adversarial loss: 0.624525\n",
      "epoch 24; iter: 200; batch classifier loss: 0.377063; batch adversarial loss: 0.592103\n",
      "epoch 25; iter: 0; batch classifier loss: 0.385889; batch adversarial loss: 0.619010\n",
      "epoch 25; iter: 200; batch classifier loss: 0.453550; batch adversarial loss: 0.654010\n",
      "epoch 26; iter: 0; batch classifier loss: 0.412620; batch adversarial loss: 0.619223\n",
      "epoch 26; iter: 200; batch classifier loss: 0.422308; batch adversarial loss: 0.619831\n",
      "epoch 27; iter: 0; batch classifier loss: 0.466011; batch adversarial loss: 0.646519\n",
      "epoch 27; iter: 200; batch classifier loss: 0.326260; batch adversarial loss: 0.621596\n",
      "epoch 28; iter: 0; batch classifier loss: 0.439250; batch adversarial loss: 0.620860\n",
      "epoch 28; iter: 200; batch classifier loss: 0.393824; batch adversarial loss: 0.558478\n",
      "epoch 29; iter: 0; batch classifier loss: 0.410889; batch adversarial loss: 0.603989\n",
      "epoch 29; iter: 200; batch classifier loss: 0.411420; batch adversarial loss: 0.621638\n",
      "epoch 30; iter: 0; batch classifier loss: 0.444175; batch adversarial loss: 0.539593\n",
      "epoch 30; iter: 200; batch classifier loss: 0.444944; batch adversarial loss: 0.595975\n",
      "epoch 31; iter: 0; batch classifier loss: 0.437896; batch adversarial loss: 0.609173\n",
      "epoch 31; iter: 200; batch classifier loss: 0.442679; batch adversarial loss: 0.555638\n",
      "epoch 32; iter: 0; batch classifier loss: 0.455119; batch adversarial loss: 0.600850\n",
      "epoch 32; iter: 200; batch classifier loss: 0.458942; batch adversarial loss: 0.620864\n",
      "epoch 33; iter: 0; batch classifier loss: 0.364968; batch adversarial loss: 0.578099\n",
      "epoch 33; iter: 200; batch classifier loss: 0.464471; batch adversarial loss: 0.627460\n",
      "epoch 34; iter: 0; batch classifier loss: 0.449273; batch adversarial loss: 0.626969\n",
      "epoch 34; iter: 200; batch classifier loss: 0.526472; batch adversarial loss: 0.669629\n",
      "epoch 35; iter: 0; batch classifier loss: 0.446966; batch adversarial loss: 0.612734\n",
      "epoch 35; iter: 200; batch classifier loss: 0.303455; batch adversarial loss: 0.674945\n",
      "epoch 36; iter: 0; batch classifier loss: 0.431617; batch adversarial loss: 0.606889\n",
      "epoch 36; iter: 200; batch classifier loss: 0.426695; batch adversarial loss: 0.522156\n",
      "epoch 37; iter: 0; batch classifier loss: 0.386666; batch adversarial loss: 0.613115\n",
      "epoch 37; iter: 200; batch classifier loss: 0.375751; batch adversarial loss: 0.598702\n",
      "epoch 38; iter: 0; batch classifier loss: 0.496611; batch adversarial loss: 0.575969\n",
      "epoch 38; iter: 200; batch classifier loss: 0.458491; batch adversarial loss: 0.582556\n",
      "epoch 39; iter: 0; batch classifier loss: 0.448403; batch adversarial loss: 0.592942\n",
      "epoch 39; iter: 200; batch classifier loss: 0.412417; batch adversarial loss: 0.578672\n",
      "epoch 40; iter: 0; batch classifier loss: 0.493855; batch adversarial loss: 0.569777\n",
      "epoch 40; iter: 200; batch classifier loss: 0.468248; batch adversarial loss: 0.632044\n",
      "epoch 41; iter: 0; batch classifier loss: 0.462956; batch adversarial loss: 0.565057\n",
      "epoch 41; iter: 200; batch classifier loss: 0.473963; batch adversarial loss: 0.598794\n",
      "epoch 42; iter: 0; batch classifier loss: 0.413519; batch adversarial loss: 0.644419\n",
      "epoch 42; iter: 200; batch classifier loss: 0.382201; batch adversarial loss: 0.608255\n",
      "epoch 43; iter: 0; batch classifier loss: 0.401344; batch adversarial loss: 0.598872\n",
      "epoch 43; iter: 200; batch classifier loss: 0.443334; batch adversarial loss: 0.699326\n",
      "epoch 44; iter: 0; batch classifier loss: 0.463175; batch adversarial loss: 0.588730\n",
      "epoch 44; iter: 200; batch classifier loss: 0.446989; batch adversarial loss: 0.567299\n",
      "epoch 45; iter: 0; batch classifier loss: 0.402694; batch adversarial loss: 0.627479\n",
      "epoch 45; iter: 200; batch classifier loss: 0.448629; batch adversarial loss: 0.612812\n",
      "epoch 46; iter: 0; batch classifier loss: 0.473558; batch adversarial loss: 0.639091\n",
      "epoch 46; iter: 200; batch classifier loss: 0.460280; batch adversarial loss: 0.595908\n",
      "epoch 47; iter: 0; batch classifier loss: 0.435534; batch adversarial loss: 0.588004\n",
      "epoch 47; iter: 200; batch classifier loss: 0.428771; batch adversarial loss: 0.627408\n",
      "epoch 48; iter: 0; batch classifier loss: 0.446631; batch adversarial loss: 0.569680\n",
      "epoch 48; iter: 200; batch classifier loss: 0.505245; batch adversarial loss: 0.598743\n",
      "epoch 49; iter: 0; batch classifier loss: 0.420683; batch adversarial loss: 0.581146\n",
      "epoch 49; iter: 200; batch classifier loss: 0.390965; batch adversarial loss: 0.647869\n"
     ]
    },
    {
     "data": {
      "text/plain": [
       "<aif360.algorithms.inprocessing.adversarial_debiasing.AdversarialDebiasing at 0x31b38a050>"
      ]
     },
     "execution_count": 12,
     "metadata": {},
     "output_type": "execute_result"
    }
   ],
   "source": [
    "debiased_model.fit(dataset_orig_train)"
   ]
  },
  {
   "cell_type": "code",
   "execution_count": 13,
   "metadata": {},
   "outputs": [],
   "source": [
    "# Apply the plain model to test data\n",
    "dataset_debiasing_train = debiased_model.predict(dataset_orig_train)\n",
    "dataset_debiasing_test = debiased_model.predict(dataset_orig_test)"
   ]
  },
  {
   "cell_type": "code",
   "execution_count": 14,
   "metadata": {},
   "outputs": [
    {
     "data": {
      "text/markdown": [
       "#### Plain model - without debiasing - dataset metrics"
      ],
      "text/plain": [
       "<IPython.core.display.Markdown object>"
      ]
     },
     "metadata": {},
     "output_type": "display_data"
    },
    {
     "name": "stdout",
     "output_type": "stream",
     "text": [
      "Train set: Difference in mean outcomes between unprivileged and privileged groups = -0.217802\n",
      "Test set: Difference in mean outcomes between unprivileged and privileged groups = -0.221828\n"
     ]
    },
    {
     "data": {
      "text/markdown": [
       "#### Model - with debiasing - dataset metrics"
      ],
      "text/plain": [
       "<IPython.core.display.Markdown object>"
      ]
     },
     "metadata": {},
     "output_type": "display_data"
    },
    {
     "name": "stdout",
     "output_type": "stream",
     "text": [
      "Train set: Difference in mean outcomes between unprivileged and privileged groups = -0.070474\n",
      "Test set: Difference in mean outcomes between unprivileged and privileged groups = -0.075188\n"
     ]
    },
    {
     "data": {
      "text/markdown": [
       "#### Plain model - without debiasing - classification metrics"
      ],
      "text/plain": [
       "<IPython.core.display.Markdown object>"
      ]
     },
     "metadata": {},
     "output_type": "display_data"
    },
    {
     "name": "stdout",
     "output_type": "stream",
     "text": [
      "Test set: Classification accuracy = 0.805910\n",
      "Test set: Balanced classification accuracy = 0.669047\n",
      "Test set: Disparate impact = 0.000000\n",
      "Test set: Equal opportunity difference = -0.475475\n",
      "Test set: Average odds difference = -0.293406\n",
      "Test set: Theil_index = 0.173400\n"
     ]
    },
    {
     "data": {
      "text/markdown": [
       "#### Model - with debiasing - classification metrics"
      ],
      "text/plain": [
       "<IPython.core.display.Markdown object>"
      ]
     },
     "metadata": {},
     "output_type": "display_data"
    },
    {
     "name": "stdout",
     "output_type": "stream",
     "text": [
      "Test set: Classification accuracy = 0.789190\n",
      "Test set: Balanced classification accuracy = 0.622330\n",
      "Test set: Disparate impact = 0.466499\n",
      "Test set: Equal opportunity difference = -0.118072\n",
      "Test set: Average odds difference = -0.065752\n",
      "Test set: Theil_index = 0.200494\n"
     ]
    }
   ],
   "source": [
    "# Metrics for the dataset from plain model (without debiasing)\n",
    "display(Markdown(\"#### Plain model - without debiasing - dataset metrics\"))\n",
    "print(\"Train set: Difference in mean outcomes between unprivileged and privileged groups = %f\" % metric_dataset_nodebiasing_train.mean_difference())\n",
    "print(\"Test set: Difference in mean outcomes between unprivileged and privileged groups = %f\" % metric_dataset_nodebiasing_test.mean_difference())\n",
    "\n",
    "# Metrics for the dataset from model with debiasing\n",
    "display(Markdown(\"#### Model - with debiasing - dataset metrics\"))\n",
    "metric_dataset_debiasing_train = BinaryLabelDatasetMetric(dataset_debiasing_train, \n",
    "                                             unprivileged_groups=unprivileged_groups,\n",
    "                                             privileged_groups=privileged_groups)\n",
    "\n",
    "print(\"Train set: Difference in mean outcomes between unprivileged and privileged groups = %f\" % metric_dataset_debiasing_train.mean_difference())\n",
    "\n",
    "metric_dataset_debiasing_test = BinaryLabelDatasetMetric(dataset_debiasing_test, \n",
    "                                             unprivileged_groups=unprivileged_groups,\n",
    "                                             privileged_groups=privileged_groups)\n",
    "\n",
    "print(\"Test set: Difference in mean outcomes between unprivileged and privileged groups = %f\" % metric_dataset_debiasing_test.mean_difference())\n",
    "\n",
    "\n",
    "\n",
    "display(Markdown(\"#### Plain model - without debiasing - classification metrics\"))\n",
    "print(\"Test set: Classification accuracy = %f\" % classified_metric_nodebiasing_test.accuracy())\n",
    "TPR = classified_metric_nodebiasing_test.true_positive_rate()\n",
    "TNR = classified_metric_nodebiasing_test.true_negative_rate()\n",
    "bal_acc_nodebiasing_test = 0.5*(TPR+TNR)\n",
    "print(\"Test set: Balanced classification accuracy = %f\" % bal_acc_nodebiasing_test)\n",
    "print(\"Test set: Disparate impact = %f\" % classified_metric_nodebiasing_test.disparate_impact())\n",
    "print(\"Test set: Equal opportunity difference = %f\" % classified_metric_nodebiasing_test.equal_opportunity_difference())\n",
    "print(\"Test set: Average odds difference = %f\" % classified_metric_nodebiasing_test.average_odds_difference())\n",
    "print(\"Test set: Theil_index = %f\" % classified_metric_nodebiasing_test.theil_index())\n",
    "\n",
    "\n",
    "\n",
    "display(Markdown(\"#### Model - with debiasing - classification metrics\"))\n",
    "classified_metric_debiasing_test = ClassificationMetric(dataset_orig_test, \n",
    "                                                 dataset_debiasing_test,\n",
    "                                                 unprivileged_groups=unprivileged_groups,\n",
    "                                                 privileged_groups=privileged_groups)\n",
    "print(\"Test set: Classification accuracy = %f\" % classified_metric_debiasing_test.accuracy())\n",
    "TPR = classified_metric_debiasing_test.true_positive_rate()\n",
    "TNR = classified_metric_debiasing_test.true_negative_rate()\n",
    "bal_acc_debiasing_test = 0.5*(TPR+TNR)\n",
    "print(\"Test set: Balanced classification accuracy = %f\" % bal_acc_debiasing_test)\n",
    "print(\"Test set: Disparate impact = %f\" % classified_metric_debiasing_test.disparate_impact())\n",
    "print(\"Test set: Equal opportunity difference = %f\" % classified_metric_debiasing_test.equal_opportunity_difference())\n",
    "print(\"Test set: Average odds difference = %f\" % classified_metric_debiasing_test.average_odds_difference())\n",
    "print(\"Test set: Theil_index = %f\" % classified_metric_debiasing_test.theil_index())"
   ]
  },
  {
   "cell_type": "markdown",
   "metadata": {},
   "source": [
    "\n",
    "    References:\n",
    "    [1] B. H. Zhang, B. Lemoine, and M. Mitchell, \"Mitigating UnwantedBiases with Adversarial Learning,\" \n",
    "    AAAI/ACM Conference on Artificial Intelligence, Ethics, and Society, 2018."
   ]
  },
  {
   "cell_type": "code",
   "execution_count": null,
   "metadata": {},
   "outputs": [],
   "source": []
  }
 ],
 "metadata": {
  "kernelspec": {
   "display_name": "Python 3 (ipykernel)",
   "language": "python",
   "name": "python3"
  },
  "language_info": {
   "codemirror_mode": {
    "name": "ipython",
    "version": 3
   },
   "file_extension": ".py",
   "mimetype": "text/x-python",
   "name": "python",
   "nbconvert_exporter": "python",
   "pygments_lexer": "ipython3",
   "version": "3.11.5"
  }
 },
 "nbformat": 4,
 "nbformat_minor": 4
}
